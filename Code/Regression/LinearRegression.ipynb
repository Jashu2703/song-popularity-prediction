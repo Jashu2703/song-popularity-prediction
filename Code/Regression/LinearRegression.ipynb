{
 "cells": [
  {
   "cell_type": "code",
   "execution_count": 19,
   "metadata": {},
   "outputs": [],
   "source": [
    "from sklearn import linear_model\n",
    "from matplotlib import pyplot as plt\n",
    "import seaborn as sns\n",
    "sns.set_theme()\n",
    "import pandas as pd\n",
    "from sklearn.model_selection import train_test_split, cross_val_score\n",
    "from sklearn.feature_selection import SelectKBest, f_regression, mutual_info_regression\n",
    "from sklearn import preprocessing"
   ]
  },
  {
   "cell_type": "markdown",
   "metadata": {},
   "source": [
    "## Reading the dataset"
   ]
  },
  {
   "cell_type": "code",
   "execution_count": 20,
   "metadata": {},
   "outputs": [],
   "source": [
    "df = pd.read_csv('dataset/data_merged.csv')"
   ]
  },
  {
   "cell_type": "code",
   "execution_count": 21,
   "metadata": {},
   "outputs": [
    {
     "data": {
      "text/html": [
       "<div>\n",
       "<style scoped>\n",
       "    .dataframe tbody tr th:only-of-type {\n",
       "        vertical-align: middle;\n",
       "    }\n",
       "\n",
       "    .dataframe tbody tr th {\n",
       "        vertical-align: top;\n",
       "    }\n",
       "\n",
       "    .dataframe thead th {\n",
       "        text-align: right;\n",
       "    }\n",
       "</style>\n",
       "<table border=\"1\" class=\"dataframe\">\n",
       "  <thead>\n",
       "    <tr style=\"text-align: right;\">\n",
       "      <th></th>\n",
       "      <th>acousticness</th>\n",
       "      <th>danceability</th>\n",
       "      <th>duration_ms</th>\n",
       "      <th>energy</th>\n",
       "      <th>explicit</th>\n",
       "      <th>instrumentalness</th>\n",
       "      <th>liveness</th>\n",
       "      <th>loudness</th>\n",
       "      <th>popularity</th>\n",
       "      <th>speechiness</th>\n",
       "      <th>...</th>\n",
       "      <th>valence_yr</th>\n",
       "      <th>popularity_yr</th>\n",
       "      <th>mode</th>\n",
       "      <th>key_0_yr</th>\n",
       "      <th>key_1_yr</th>\n",
       "      <th>key_2_yr</th>\n",
       "      <th>key_3_yr</th>\n",
       "      <th>key_4_yr</th>\n",
       "      <th>key_5_yr</th>\n",
       "      <th>key_6_yr</th>\n",
       "    </tr>\n",
       "  </thead>\n",
       "  <tbody>\n",
       "    <tr>\n",
       "      <th>0</th>\n",
       "      <td>0.0131</td>\n",
       "      <td>0.2560</td>\n",
       "      <td>182347</td>\n",
       "      <td>0.895</td>\n",
       "      <td>0</td>\n",
       "      <td>0.000106</td>\n",
       "      <td>0.0821</td>\n",
       "      <td>-4.860</td>\n",
       "      <td>29</td>\n",
       "      <td>0.0707</td>\n",
       "      <td>...</td>\n",
       "      <td>0.583424</td>\n",
       "      <td>35.272231</td>\n",
       "      <td>1</td>\n",
       "      <td>0</td>\n",
       "      <td>0</td>\n",
       "      <td>1</td>\n",
       "      <td>0</td>\n",
       "      <td>0</td>\n",
       "      <td>0</td>\n",
       "      <td>0</td>\n",
       "    </tr>\n",
       "    <tr>\n",
       "      <th>1</th>\n",
       "      <td>0.9800</td>\n",
       "      <td>0.2770</td>\n",
       "      <td>206972</td>\n",
       "      <td>0.145</td>\n",
       "      <td>0</td>\n",
       "      <td>0.879000</td>\n",
       "      <td>0.1110</td>\n",
       "      <td>-19.898</td>\n",
       "      <td>0</td>\n",
       "      <td>0.0845</td>\n",
       "      <td>...</td>\n",
       "      <td>0.432251</td>\n",
       "      <td>3.672500</td>\n",
       "      <td>1</td>\n",
       "      <td>1</td>\n",
       "      <td>0</td>\n",
       "      <td>0</td>\n",
       "      <td>0</td>\n",
       "      <td>0</td>\n",
       "      <td>0</td>\n",
       "      <td>0</td>\n",
       "    </tr>\n",
       "    <tr>\n",
       "      <th>2</th>\n",
       "      <td>0.7950</td>\n",
       "      <td>0.6850</td>\n",
       "      <td>314667</td>\n",
       "      <td>0.483</td>\n",
       "      <td>0</td>\n",
       "      <td>0.878000</td>\n",
       "      <td>0.1130</td>\n",
       "      <td>-10.202</td>\n",
       "      <td>1</td>\n",
       "      <td>0.0337</td>\n",
       "      <td>...</td>\n",
       "      <td>0.447291</td>\n",
       "      <td>7.707000</td>\n",
       "      <td>1</td>\n",
       "      <td>0</td>\n",
       "      <td>0</td>\n",
       "      <td>0</td>\n",
       "      <td>1</td>\n",
       "      <td>0</td>\n",
       "      <td>0</td>\n",
       "      <td>0</td>\n",
       "    </tr>\n",
       "    <tr>\n",
       "      <th>3</th>\n",
       "      <td>0.6560</td>\n",
       "      <td>0.7880</td>\n",
       "      <td>179747</td>\n",
       "      <td>0.808</td>\n",
       "      <td>0</td>\n",
       "      <td>0.000000</td>\n",
       "      <td>0.1540</td>\n",
       "      <td>-6.590</td>\n",
       "      <td>0</td>\n",
       "      <td>0.0395</td>\n",
       "      <td>...</td>\n",
       "      <td>0.447291</td>\n",
       "      <td>7.707000</td>\n",
       "      <td>1</td>\n",
       "      <td>0</td>\n",
       "      <td>0</td>\n",
       "      <td>0</td>\n",
       "      <td>1</td>\n",
       "      <td>0</td>\n",
       "      <td>0</td>\n",
       "      <td>0</td>\n",
       "    </tr>\n",
       "    <tr>\n",
       "      <th>4</th>\n",
       "      <td>0.3020</td>\n",
       "      <td>0.0753</td>\n",
       "      <td>498560</td>\n",
       "      <td>0.150</td>\n",
       "      <td>0</td>\n",
       "      <td>0.884000</td>\n",
       "      <td>0.1210</td>\n",
       "      <td>-16.705</td>\n",
       "      <td>0</td>\n",
       "      <td>0.0371</td>\n",
       "      <td>...</td>\n",
       "      <td>0.443625</td>\n",
       "      <td>3.419500</td>\n",
       "      <td>1</td>\n",
       "      <td>1</td>\n",
       "      <td>0</td>\n",
       "      <td>0</td>\n",
       "      <td>0</td>\n",
       "      <td>0</td>\n",
       "      <td>0</td>\n",
       "      <td>0</td>\n",
       "    </tr>\n",
       "  </tbody>\n",
       "</table>\n",
       "<p>5 rows × 72 columns</p>\n",
       "</div>"
      ],
      "text/plain": [
       "   acousticness  danceability  duration_ms  energy  explicit  \\\n",
       "0        0.0131        0.2560       182347   0.895         0   \n",
       "1        0.9800        0.2770       206972   0.145         0   \n",
       "2        0.7950        0.6850       314667   0.483         0   \n",
       "3        0.6560        0.7880       179747   0.808         0   \n",
       "4        0.3020        0.0753       498560   0.150         0   \n",
       "\n",
       "   instrumentalness  liveness  loudness  popularity  speechiness  ...  \\\n",
       "0          0.000106    0.0821    -4.860          29       0.0707  ...   \n",
       "1          0.879000    0.1110   -19.898           0       0.0845  ...   \n",
       "2          0.878000    0.1130   -10.202           1       0.0337  ...   \n",
       "3          0.000000    0.1540    -6.590           0       0.0395  ...   \n",
       "4          0.884000    0.1210   -16.705           0       0.0371  ...   \n",
       "\n",
       "   valence_yr  popularity_yr  mode  key_0_yr  key_1_yr  key_2_yr  key_3_yr  \\\n",
       "0    0.583424      35.272231     1         0         0         1         0   \n",
       "1    0.432251       3.672500     1         1         0         0         0   \n",
       "2    0.447291       7.707000     1         0         0         0         1   \n",
       "3    0.447291       7.707000     1         0         0         0         1   \n",
       "4    0.443625       3.419500     1         1         0         0         0   \n",
       "\n",
       "   key_4_yr  key_5_yr  key_6_yr  \n",
       "0         0         0         0  \n",
       "1         0         0         0  \n",
       "2         0         0         0  \n",
       "3         0         0         0  \n",
       "4         0         0         0  \n",
       "\n",
       "[5 rows x 72 columns]"
      ]
     },
     "execution_count": 21,
     "metadata": {},
     "output_type": "execute_result"
    }
   ],
   "source": [
    "df.head()"
   ]
  },
  {
   "cell_type": "code",
   "execution_count": 4,
   "metadata": {},
   "outputs": [
    {
     "data": {
      "text/plain": [
       "Index(['acousticness', 'danceability', 'duration_ms', 'energy', 'explicit',\n",
       "       'instrumentalness', 'liveness', 'loudness', 'popularity', 'speechiness',\n",
       "       'tempo', 'valence', 'year', 'key_0', 'key_1', 'key_2', 'key_3', 'key_4',\n",
       "       'key_5', 'key_6', 'key_7', 'key_8', 'key_9', 'key_10', 'key_11',\n",
       "       'minor', 'major', 'acousticness_ar', 'danceability_ar',\n",
       "       'duration_ms_ar', 'energy_ar', 'instrumentalness_ar', 'liveness_ar',\n",
       "       'loudness_ar', 'speechiness_ar', 'tempo_ar', 'valence_ar',\n",
       "       'popularity_ar', 'count', 'key_0_ar', 'key_1_ar', 'key_2_ar',\n",
       "       'key_3_ar', 'key_4_ar', 'key_5_ar', 'key_6_ar', 'key_7_ar', 'key_8_ar',\n",
       "       'key_9_ar', 'key_10_ar', 'key_11_ar', 'minor_ar', 'major_ar',\n",
       "       'acousticness_yr', 'danceability_yr', 'duration_ms_yr', 'energy_yr',\n",
       "       'instrumentalness_yr', 'liveness_yr', 'loudness_yr', 'speechiness_yr',\n",
       "       'tempo_yr', 'valence_yr', 'popularity_yr', 'mode', 'key_0_yr',\n",
       "       'key_1_yr', 'key_2_yr', 'key_3_yr', 'key_4_yr', 'key_5_yr', 'key_6_yr'],\n",
       "      dtype='object')"
      ]
     },
     "execution_count": 4,
     "metadata": {},
     "output_type": "execute_result"
    }
   ],
   "source": [
    "df.columns"
   ]
  },
  {
   "cell_type": "code",
   "execution_count": 63,
   "metadata": {},
   "outputs": [
    {
     "name": "stdout",
     "output_type": "stream",
     "text": [
      "174377 0\n"
     ]
    }
   ],
   "source": [
    "df.iloc[:,19]\n",
    "count_nan = len(df.iloc[:,19]) - df.iloc[:,19].count()\n",
    "print(len(df), count_nan)"
   ]
  },
  {
   "cell_type": "code",
   "execution_count": 56,
   "metadata": {},
   "outputs": [
    {
     "data": {
      "text/plain": [
       "0         21st century classical\n",
       "1                          432hz\n",
       "2                          8-bit\n",
       "3                             []\n",
       "4                     a cappella\n",
       "                   ...          \n",
       "174384                       NaN\n",
       "174385                       NaN\n",
       "174386                       NaN\n",
       "174387                       NaN\n",
       "174388                       NaN\n",
       "Name: genres, Length: 174389, dtype: object"
      ]
     },
     "execution_count": 56,
     "metadata": {},
     "output_type": "execute_result"
    }
   ],
   "source": [
    "df.iloc[:,48]df_scaled"
   ]
  },
  {
   "cell_type": "code",
   "execution_count": 68,
   "metadata": {},
   "outputs": [],
   "source": [
    "df.columns\n",
    "# len(df)"
   ]
  },
  {
   "cell_type": "code",
   "execution_count": 22,
   "metadata": {},
   "outputs": [],
   "source": [
    "df.drop(['count', 'year'], axis=1, inplace=True)"
   ]
  },
  {
   "cell_type": "markdown",
   "metadata": {},
   "source": [
    "## Feature Scaling"
   ]
  },
  {
   "cell_type": "code",
   "execution_count": 24,
   "metadata": {},
   "outputs": [],
   "source": [
    "scaler = preprocessing.StandardScaler().fit(df.drop(['popularity'], axis=1))\n",
    "X = scaler.transform(df.drop(['popularity'], axis=1))"
   ]
  },
  {
   "cell_type": "code",
   "execution_count": 26,
   "metadata": {},
   "outputs": [
    {
     "data": {
      "text/plain": [
       "array([[-1.28841216, -1.59359226, -0.34193554,  1.52192245, -0.27001909,\n",
       "        -0.58521767, -0.71568162,  1.21575963, -0.19227403,  2.45517996,\n",
       "         0.11252594, -0.37978063, -0.29020123,  2.86757455, -0.20923725,\n",
       "        -0.287322  , -0.32426948, -0.23580192, -0.37378194, -0.2554196 ,\n",
       "        -0.34019435, -0.27711764, -0.2591905 , -0.64975212,  0.64975212,\n",
       "        -1.05514968, -0.09479557, -0.11809125,  1.03811042, -0.66572066,\n",
       "        -0.44775767,  0.8493404 , -0.35749573,  1.07302411,  0.95808439,\n",
       "         0.51803935, -0.43412579, -0.30338098,  2.7397893 , -0.14203822,\n",
       "        -0.23582935, -0.33869454, -0.18254351, -0.4353908 , -0.20350298,\n",
       "        -0.37137687, -0.24569559, -0.24056569, -0.39853524,  0.33948216,\n",
       "        -0.62905622,  0.06341436,  0.6004689 ,  0.45553546, -0.9933882 ,\n",
       "         0.40772699,  0.24377051, -0.43271908,  0.58498276,  1.04525925,\n",
       "         0.62819112,  0.        , -0.75833865, -0.25007633,  3.06293244,\n",
       "        -0.23482629, -0.70078833, -0.31877314, -0.07668911],\n",
       "       [ 1.26013339, -1.47417772, -0.17461927, -1.23511095, -0.27001909,\n",
       "         2.05431891, -0.55571336, -1.42708163, -0.11688599, -1.36324666,\n",
       "        -0.11819311, -0.37978063, -0.29020123, -0.34872677,  4.77926376,\n",
       "        -0.287322  , -0.32426948, -0.23580192, -0.37378194, -0.2554196 ,\n",
       "        -0.34019435, -0.27711764, -0.2591905 , -0.64975212,  0.64975212,\n",
       "         1.36375509, -0.53474014, -0.3299333 , -1.18738921,  1.22410188,\n",
       "        -0.53002536, -0.64535876, -0.2058524 , -0.98488806,  0.07752825,\n",
       "        -1.20659199, -0.43412579,  3.29618549, -0.36499157, -0.14203822,\n",
       "        -0.23582935, -0.33869454, -0.18254351, -0.4353908 , -0.20350298,\n",
       "        -0.37137687, -0.24569559, -0.24056569, -0.39853524,  0.33948216,\n",
       "         1.51981636, -1.9877543 , -0.63999141, -1.35107162,  1.2591678 ,\n",
       "         0.65727533, -1.26991337, -0.14024429, -1.23850616, -1.67185107,\n",
       "        -1.4481245 ,  0.        ,  1.31867208, -0.25007633, -0.32648451,\n",
       "        -0.23482629, -0.70078833, -0.31877314, -0.07668911],\n",
       "       [ 0.7725122 ,  0.84587613,  0.55712187,  0.0073921 , -0.27001909,\n",
       "         2.05131567, -0.54464289,  0.27693412, -0.39440138, -0.63530162,\n",
       "         1.24342751, -0.37978063, -0.29020123,  2.86757455, -0.20923725,\n",
       "        -0.287322  , -0.32426948, -0.23580192, -0.37378194, -0.2554196 ,\n",
       "        -0.34019435, -0.27711764, -0.2591905 ,  1.53904846, -1.53904846,\n",
       "         1.07944948,  0.70055838,  0.57269497,  0.34372994,  2.46846229,\n",
       "        -1.04620954,  0.36908778, -0.38277888,  0.03169462,  1.70009439,\n",
       "        -1.01175205,  2.30347983, -0.30338098, -0.36499157, -0.14203822,\n",
       "        -0.23582935, -0.33869454, -0.18254351, -0.4353908 , -0.20350298,\n",
       "        -0.37137687, -0.24569559, -0.24056569, -0.39853524,  0.33948216,\n",
       "         1.4248613 , -1.5795074 , -0.2690871 , -1.37550165,  1.01066365,\n",
       "         0.31120585, -1.244921  , -0.02748245, -1.49701779, -1.40152722,\n",
       "        -1.18303061,  0.        , -0.75833865, -0.25007633, -0.32648451,\n",
       "         4.25846693, -0.70078833, -0.31877314, -0.07668911],\n",
       "       [ 0.40613736,  1.431576  , -0.35960142,  1.20210658, -0.27001909,\n",
       "        -0.58553601, -0.31769829,  0.91172217, -0.36271655, -0.1284802 ,\n",
       "         1.67838965, -0.37978063, -0.29020123, -0.34872677, -0.20923725,\n",
       "        -0.287322  ,  3.08385481, -0.23580192, -0.37378194, -0.2554196 ,\n",
       "        -0.34019435, -0.27711764, -0.2591905 , -0.64975212,  0.64975212,\n",
       "         0.65155736,  1.51271209, -0.56502624,  1.11739833, -0.75034612,\n",
       "        -1.40735059,  1.47407896,  0.19111031,  0.73856362,  2.20018722,\n",
       "        -1.25624702, -0.43412579, -0.30338098, -0.36499157, -0.14203822,\n",
       "        -0.23582935,  2.9525129 , -0.18254351, -0.4353908 , -0.20350298,\n",
       "        -0.37137687, -0.24569559, -0.24056569,  2.5091884 , -2.94566291,\n",
       "         1.4248613 , -1.5795074 , -0.2690871 , -1.37550165,  1.01066365,\n",
       "         0.31120585, -1.244921  , -0.02748245, -1.49701779, -1.40152722,\n",
       "        -1.18303061,  0.        , -0.75833865, -0.25007633, -0.32648451,\n",
       "         4.25846693, -0.70078833, -0.31877314, -0.07668911],\n",
       "       [-0.52693237, -2.62112591,  1.8065956 , -1.21673073, -0.27001909,\n",
       "         2.06933515, -0.50036101, -0.8659304 , -0.37582752, -1.33307243,\n",
       "        -1.85388117, -0.37978063, -0.29020123,  2.86757455, -0.20923725,\n",
       "        -0.287322  , -0.32426948, -0.23580192, -0.37378194, -0.2554196 ,\n",
       "        -0.34019435, -0.27711764, -0.2591905 ,  1.53904846, -1.53904846,\n",
       "         0.93610097, -2.53422026,  2.81803958, -0.78439945,  1.64210354,\n",
       "         0.26844747, -0.84439664, -0.37605229, -1.59847133, -2.25300596,\n",
       "        -1.27322583, -0.43412579, -0.30338098, -0.36499157, -0.14203822,\n",
       "        -0.23582935, -0.33869454, -0.18254351,  2.29678718, -0.20350298,\n",
       "        -0.37137687, -0.24569559, -0.24056569,  2.5091884 ,  0.33948216,\n",
       "         1.55332723, -1.55752846, -0.78910877, -1.41534665,  1.1383013 ,\n",
       "         0.53612618, -1.37878264,  0.01600417, -1.31684086, -1.46741261,\n",
       "        -1.46474831,  0.        ,  1.31867208, -0.25007633, -0.32648451,\n",
       "        -0.23482629, -0.70078833, -0.31877314, -0.07668911]])"
      ]
     },
     "execution_count": 26,
     "metadata": {},
     "output_type": "execute_result"
    }
   ],
   "source": [
    "X[:5]"
   ]
  },
  {
   "cell_type": "markdown",
   "metadata": {},
   "source": [
    "## Choose columns, separate test data"
   ]
  },
  {
   "cell_type": "code",
   "execution_count": 69,
   "metadata": {},
   "outputs": [],
   "source": []
  },
  {
   "cell_type": "code",
   "execution_count": 25,
   "metadata": {},
   "outputs": [
    {
     "name": "stderr",
     "output_type": "stream",
     "text": [
      "/home/yashrajkakkad/.local/lib/python3.8/site-packages/sklearn/feature_selection/_univariate_selection.py:301: RuntimeWarning: invalid value encountered in true_divide\n",
      "  corr /= X_norms\n"
     ]
    }
   ],
   "source": [
    "# columns = [\"acousticness\", \"danceability\", \"duration_ms\", \"energy\", \"instrumentalness\", \"key\", \"liveness\", \"loudness\", \"speechiness\", \"tempo\", \"valence\"\n",
    "#           \"accousticness_ar\", \"danceability_ar\", \"duration_ms_ar\", \"energy_ar\", \"instrumentalness_ar\", \"liveness_ar\", \"loudness_ar\", \"speechiness_ar\", \"tempo_ar\", \"key_ar\", \"mode_ar\", \"count_ar\"\n",
    "#           \"accousticness_yr\", \"danceability_yr\", \"duration_ms_yr\", \"energy_yr\", \"instrumentalness_yr\", \"liveness_yr\", \"loudness_yr\", \"speechiness_yr\", \"tempo_yr\", \"key_yr\", \"mode_yr\", \"count_yr\"]\n",
    "# X = df.drop(['popularity'])\n",
    "y = df[\"popularity\"]\n",
    "fs = SelectKBest(f_regression, k=7)\n",
    "X_new = fs.fit_transform(X, y)"
   ]
  },
  {
   "cell_type": "code",
   "execution_count": 27,
   "metadata": {},
   "outputs": [
    {
     "name": "stdout",
     "output_type": "stream",
     "text": [
      "Feature 0: 34550.341138\n",
      "Feature 1: 2917.795062\n",
      "Feature 2: 123.014124\n",
      "Feature 3: 22466.087814\n",
      "Feature 4: 4279.420586\n",
      "Feature 5: 16800.618979\n",
      "Feature 6: 1146.369732\n",
      "Feature 7: 23309.228640\n",
      "Feature 8: 6999.027545\n",
      "Feature 9: 1675.080563\n",
      "Feature 10: 643.512473\n",
      "Feature 11: 0.666736\n",
      "Feature 12: 0.565677\n",
      "Feature 13: 48.547699\n",
      "Feature 14: 366.532534\n",
      "Feature 15: 85.803454\n",
      "Feature 16: 71.171983\n",
      "Feature 17: 3.950539\n",
      "Feature 18: 1.949230\n",
      "Feature 19: 13.466010\n",
      "Feature 20: 98.369827\n",
      "Feature 21: 100.319351\n",
      "Feature 22: 22.290442\n",
      "Feature 23: 5.684786\n",
      "Feature 24: 5.684786\n",
      "Feature 25: 44152.532485\n",
      "Feature 26: 4157.806254\n",
      "Feature 27: 146.653944\n",
      "Feature 28: 32713.899222\n",
      "Feature 29: 28836.017944\n",
      "Feature 30: 2733.738298\n",
      "Feature 31: 34645.615718\n",
      "Feature 32: 7583.677963\n",
      "Feature 33: 7924.485409\n",
      "Feature 34: 1140.264535\n",
      "Feature 35: 776367.540977\n",
      "Feature 36: 55.874560\n",
      "Feature 37: 8.540363\n",
      "Feature 38: 6.255146\n",
      "Feature 39: 756.680805\n",
      "Feature 40: 193.604237\n",
      "Feature 41: 527.042213\n",
      "Feature 42: 47.114974\n",
      "Feature 43: 65.847280\n",
      "Feature 44: 1.725543\n",
      "Feature 45: 387.322756\n",
      "Feature 46: 98.128595\n",
      "Feature 47: 1.044467\n",
      "Feature 48: 692.525611\n",
      "Feature 49: 522.195829\n",
      "Feature 50: 97116.365358\n",
      "Feature 51: 13928.622593\n",
      "Feature 52: 39893.140649\n",
      "Feature 53: 98790.519579\n",
      "Feature 54: 78357.156998\n",
      "Feature 55: 9039.755941\n",
      "Feature 56: 75659.248012\n",
      "Feature 57: 26821.515905\n",
      "Feature 58: 83510.512893\n",
      "Feature 59: 6146.990635\n",
      "Feature 60: 162947.854728\n",
      "Feature 61: nan\n",
      "Feature 62: 2677.267793\n",
      "Feature 63: 1090.035314\n",
      "Feature 64: 1930.278213\n",
      "Feature 65: 3828.251174\n",
      "Feature 66: 2383.729062\n",
      "Feature 67: 2047.828951\n",
      "Feature 68: 1180.677830\n"
     ]
    }
   ],
   "source": [
    "for i in range(len(fs.scores_)):\n",
    "\tprint('Feature %d: %f' % (i, fs.scores_[i]))"
   ]
  },
  {
   "cell_type": "code",
   "execution_count": 28,
   "metadata": {},
   "outputs": [],
   "source": [
    "X_train, X_test, y_train, y_test = train_test_split(X_new, y, test_size=0.20, random_state=42)"
   ]
  },
  {
   "cell_type": "code",
   "execution_count": 29,
   "metadata": {},
   "outputs": [],
   "source": [
    "lin_reg = linear_model.LinearRegression()"
   ]
  },
  {
   "cell_type": "code",
   "execution_count": 30,
   "metadata": {},
   "outputs": [
    {
     "data": {
      "text/plain": [
       "array([0.82702068, 0.82482612, 0.8237848 , 0.82201679, 0.82900628])"
      ]
     },
     "execution_count": 30,
     "metadata": {},
     "output_type": "execute_result"
    }
   ],
   "source": [
    "lin_cv = cross_val_score(lin_reg, X_train, y_train)\n",
    "lin_cv"
   ]
  },
  {
   "cell_type": "code",
   "execution_count": 32,
   "metadata": {},
   "outputs": [
    {
     "ename": "AttributeError",
     "evalue": "'LinearRegression' object has no attribute 'coef_'",
     "output_type": "error",
     "traceback": [
      "\u001b[0;31m---------------------------------------------------------------------------\u001b[0m",
      "\u001b[0;31mAttributeError\u001b[0m                            Traceback (most recent call last)",
      "\u001b[0;32m<ipython-input-32-55ca5c6fdaea>\u001b[0m in \u001b[0;36m<module>\u001b[0;34m\u001b[0m\n\u001b[0;32m----> 1\u001b[0;31m \u001b[0mlin_reg\u001b[0m\u001b[0;34m.\u001b[0m\u001b[0mcoef_\u001b[0m\u001b[0;34m\u001b[0m\u001b[0;34m\u001b[0m\u001b[0m\n\u001b[0m",
      "\u001b[0;31mAttributeError\u001b[0m: 'LinearRegression' object has no attribute 'coef_'"
     ]
    }
   ],
   "source": [
    "lin_reg.coef_"
   ]
  },
  {
   "cell_type": "code",
   "execution_count": 33,
   "metadata": {},
   "outputs": [
    {
     "ename": "NotFittedError",
     "evalue": "This LinearRegression instance is not fitted yet. Call 'fit' with appropriate arguments before using this estimator.",
     "output_type": "error",
     "traceback": [
      "\u001b[0;31m---------------------------------------------------------------------------\u001b[0m",
      "\u001b[0;31mNotFittedError\u001b[0m                            Traceback (most recent call last)",
      "\u001b[0;32m<ipython-input-33-29aa7a46ba97>\u001b[0m in \u001b[0;36m<module>\u001b[0;34m\u001b[0m\n\u001b[0;32m----> 1\u001b[0;31m \u001b[0mlin_reg\u001b[0m\u001b[0;34m.\u001b[0m\u001b[0mscore\u001b[0m\u001b[0;34m(\u001b[0m\u001b[0mX_train\u001b[0m\u001b[0;34m,\u001b[0m \u001b[0my_train\u001b[0m\u001b[0;34m)\u001b[0m\u001b[0;34m\u001b[0m\u001b[0;34m\u001b[0m\u001b[0m\n\u001b[0m",
      "\u001b[0;32m~/.local/lib/python3.8/site-packages/sklearn/base.py\u001b[0m in \u001b[0;36mscore\u001b[0;34m(self, X, y, sample_weight)\u001b[0m\n\u001b[1;32m    551\u001b[0m \u001b[0;34m\u001b[0m\u001b[0m\n\u001b[1;32m    552\u001b[0m         \u001b[0;32mfrom\u001b[0m \u001b[0;34m.\u001b[0m\u001b[0mmetrics\u001b[0m \u001b[0;32mimport\u001b[0m \u001b[0mr2_score\u001b[0m\u001b[0;34m\u001b[0m\u001b[0;34m\u001b[0m\u001b[0m\n\u001b[0;32m--> 553\u001b[0;31m         \u001b[0my_pred\u001b[0m \u001b[0;34m=\u001b[0m \u001b[0mself\u001b[0m\u001b[0;34m.\u001b[0m\u001b[0mpredict\u001b[0m\u001b[0;34m(\u001b[0m\u001b[0mX\u001b[0m\u001b[0;34m)\u001b[0m\u001b[0;34m\u001b[0m\u001b[0;34m\u001b[0m\u001b[0m\n\u001b[0m\u001b[1;32m    554\u001b[0m         \u001b[0;32mreturn\u001b[0m \u001b[0mr2_score\u001b[0m\u001b[0;34m(\u001b[0m\u001b[0my\u001b[0m\u001b[0;34m,\u001b[0m \u001b[0my_pred\u001b[0m\u001b[0;34m,\u001b[0m \u001b[0msample_weight\u001b[0m\u001b[0;34m=\u001b[0m\u001b[0msample_weight\u001b[0m\u001b[0;34m)\u001b[0m\u001b[0;34m\u001b[0m\u001b[0;34m\u001b[0m\u001b[0m\n\u001b[1;32m    555\u001b[0m \u001b[0;34m\u001b[0m\u001b[0m\n",
      "\u001b[0;32m~/.local/lib/python3.8/site-packages/sklearn/linear_model/_base.py\u001b[0m in \u001b[0;36mpredict\u001b[0;34m(self, X)\u001b[0m\n\u001b[1;32m    236\u001b[0m             \u001b[0mReturns\u001b[0m \u001b[0mpredicted\u001b[0m \u001b[0mvalues\u001b[0m\u001b[0;34m.\u001b[0m\u001b[0;34m\u001b[0m\u001b[0;34m\u001b[0m\u001b[0m\n\u001b[1;32m    237\u001b[0m         \"\"\"\n\u001b[0;32m--> 238\u001b[0;31m         \u001b[0;32mreturn\u001b[0m \u001b[0mself\u001b[0m\u001b[0;34m.\u001b[0m\u001b[0m_decision_function\u001b[0m\u001b[0;34m(\u001b[0m\u001b[0mX\u001b[0m\u001b[0;34m)\u001b[0m\u001b[0;34m\u001b[0m\u001b[0;34m\u001b[0m\u001b[0m\n\u001b[0m\u001b[1;32m    239\u001b[0m \u001b[0;34m\u001b[0m\u001b[0m\n\u001b[1;32m    240\u001b[0m     \u001b[0m_preprocess_data\u001b[0m \u001b[0;34m=\u001b[0m \u001b[0mstaticmethod\u001b[0m\u001b[0;34m(\u001b[0m\u001b[0m_preprocess_data\u001b[0m\u001b[0;34m)\u001b[0m\u001b[0;34m\u001b[0m\u001b[0;34m\u001b[0m\u001b[0m\n",
      "\u001b[0;32m~/.local/lib/python3.8/site-packages/sklearn/linear_model/_base.py\u001b[0m in \u001b[0;36m_decision_function\u001b[0;34m(self, X)\u001b[0m\n\u001b[1;32m    216\u001b[0m \u001b[0;34m\u001b[0m\u001b[0m\n\u001b[1;32m    217\u001b[0m     \u001b[0;32mdef\u001b[0m \u001b[0m_decision_function\u001b[0m\u001b[0;34m(\u001b[0m\u001b[0mself\u001b[0m\u001b[0;34m,\u001b[0m \u001b[0mX\u001b[0m\u001b[0;34m)\u001b[0m\u001b[0;34m:\u001b[0m\u001b[0;34m\u001b[0m\u001b[0;34m\u001b[0m\u001b[0m\n\u001b[0;32m--> 218\u001b[0;31m         \u001b[0mcheck_is_fitted\u001b[0m\u001b[0;34m(\u001b[0m\u001b[0mself\u001b[0m\u001b[0;34m)\u001b[0m\u001b[0;34m\u001b[0m\u001b[0;34m\u001b[0m\u001b[0m\n\u001b[0m\u001b[1;32m    219\u001b[0m \u001b[0;34m\u001b[0m\u001b[0m\n\u001b[1;32m    220\u001b[0m         \u001b[0mX\u001b[0m \u001b[0;34m=\u001b[0m \u001b[0mcheck_array\u001b[0m\u001b[0;34m(\u001b[0m\u001b[0mX\u001b[0m\u001b[0;34m,\u001b[0m \u001b[0maccept_sparse\u001b[0m\u001b[0;34m=\u001b[0m\u001b[0;34m[\u001b[0m\u001b[0;34m'csr'\u001b[0m\u001b[0;34m,\u001b[0m \u001b[0;34m'csc'\u001b[0m\u001b[0;34m,\u001b[0m \u001b[0;34m'coo'\u001b[0m\u001b[0;34m]\u001b[0m\u001b[0;34m)\u001b[0m\u001b[0;34m\u001b[0m\u001b[0;34m\u001b[0m\u001b[0m\n",
      "\u001b[0;32m~/.local/lib/python3.8/site-packages/sklearn/utils/validation.py\u001b[0m in \u001b[0;36minner_f\u001b[0;34m(*args, **kwargs)\u001b[0m\n\u001b[1;32m     61\u001b[0m             \u001b[0mextra_args\u001b[0m \u001b[0;34m=\u001b[0m \u001b[0mlen\u001b[0m\u001b[0;34m(\u001b[0m\u001b[0margs\u001b[0m\u001b[0;34m)\u001b[0m \u001b[0;34m-\u001b[0m \u001b[0mlen\u001b[0m\u001b[0;34m(\u001b[0m\u001b[0mall_args\u001b[0m\u001b[0;34m)\u001b[0m\u001b[0;34m\u001b[0m\u001b[0;34m\u001b[0m\u001b[0m\n\u001b[1;32m     62\u001b[0m             \u001b[0;32mif\u001b[0m \u001b[0mextra_args\u001b[0m \u001b[0;34m<=\u001b[0m \u001b[0;36m0\u001b[0m\u001b[0;34m:\u001b[0m\u001b[0;34m\u001b[0m\u001b[0;34m\u001b[0m\u001b[0m\n\u001b[0;32m---> 63\u001b[0;31m                 \u001b[0;32mreturn\u001b[0m \u001b[0mf\u001b[0m\u001b[0;34m(\u001b[0m\u001b[0;34m*\u001b[0m\u001b[0margs\u001b[0m\u001b[0;34m,\u001b[0m \u001b[0;34m**\u001b[0m\u001b[0mkwargs\u001b[0m\u001b[0;34m)\u001b[0m\u001b[0;34m\u001b[0m\u001b[0;34m\u001b[0m\u001b[0m\n\u001b[0m\u001b[1;32m     64\u001b[0m \u001b[0;34m\u001b[0m\u001b[0m\n\u001b[1;32m     65\u001b[0m             \u001b[0;31m# extra_args > 0\u001b[0m\u001b[0;34m\u001b[0m\u001b[0;34m\u001b[0m\u001b[0;34m\u001b[0m\u001b[0m\n",
      "\u001b[0;32m~/.local/lib/python3.8/site-packages/sklearn/utils/validation.py\u001b[0m in \u001b[0;36mcheck_is_fitted\u001b[0;34m(estimator, attributes, msg, all_or_any)\u001b[0m\n\u001b[1;32m   1039\u001b[0m \u001b[0;34m\u001b[0m\u001b[0m\n\u001b[1;32m   1040\u001b[0m     \u001b[0;32mif\u001b[0m \u001b[0;32mnot\u001b[0m \u001b[0mattrs\u001b[0m\u001b[0;34m:\u001b[0m\u001b[0;34m\u001b[0m\u001b[0;34m\u001b[0m\u001b[0m\n\u001b[0;32m-> 1041\u001b[0;31m         \u001b[0;32mraise\u001b[0m \u001b[0mNotFittedError\u001b[0m\u001b[0;34m(\u001b[0m\u001b[0mmsg\u001b[0m \u001b[0;34m%\u001b[0m \u001b[0;34m{\u001b[0m\u001b[0;34m'name'\u001b[0m\u001b[0;34m:\u001b[0m \u001b[0mtype\u001b[0m\u001b[0;34m(\u001b[0m\u001b[0mestimator\u001b[0m\u001b[0;34m)\u001b[0m\u001b[0;34m.\u001b[0m\u001b[0m__name__\u001b[0m\u001b[0;34m}\u001b[0m\u001b[0;34m)\u001b[0m\u001b[0;34m\u001b[0m\u001b[0;34m\u001b[0m\u001b[0m\n\u001b[0m\u001b[1;32m   1042\u001b[0m \u001b[0;34m\u001b[0m\u001b[0m\n\u001b[1;32m   1043\u001b[0m \u001b[0;34m\u001b[0m\u001b[0m\n",
      "\u001b[0;31mNotFittedError\u001b[0m: This LinearRegression instance is not fitted yet. Call 'fit' with appropriate arguments before using this estimator."
     ]
    }
   ],
   "source": [
    "lin_reg.score(X_train, y_train)"
   ]
  },
  {
   "cell_type": "code",
   "execution_count": null,
   "metadata": {},
   "outputs": [],
   "source": [
    "lin_reg.score(X_test, y_test)"
   ]
  },
  {
   "cell_type": "code",
   "execution_count": null,
   "metadata": {},
   "outputs": [],
   "source": []
  }
 ],
 "metadata": {
  "kernelspec": {
   "display_name": "Python 3",
   "language": "python",
   "name": "python3"
  },
  "language_info": {
   "codemirror_mode": {
    "name": "ipython",
    "version": 3
   },
   "file_extension": ".py",
   "mimetype": "text/x-python",
   "name": "python",
   "nbconvert_exporter": "python",
   "pygments_lexer": "ipython3",
   "version": "3.8.5"
  }
 },
 "nbformat": 4,
 "nbformat_minor": 4
}
