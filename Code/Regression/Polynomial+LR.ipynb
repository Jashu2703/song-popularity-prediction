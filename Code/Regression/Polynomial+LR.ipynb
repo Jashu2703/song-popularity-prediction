{
 "cells": [
  {
   "cell_type": "code",
   "execution_count": null,
   "id": "attempted-signal",
   "metadata": {
    "ExecuteTime": {
     "end_time": "2021-03-17T16:27:46.501997Z",
     "start_time": "2021-03-17T16:27:42.246Z"
    }
   },
   "outputs": [],
   "source": [
    "import pandas as pd\n",
    "from matplotlib import pyplot as plt\n",
    "import seaborn as sns\n",
    "sns.set_theme()\n",
    "from sklearn.model_selection import train_test_split\n",
    "from sklearn.preprocessing import PolynomialFeatures\n",
    "from sklearn.linear_model import LogisticRegression, LinearRegression\n",
    "from sklearn.metrics import accuracy_score, r2_score, mean_squared_error\n",
    "from sklearn.feature_selection import SelectKBest, VarianceThreshold\n",
    "from sklearn.feature_selection import chi2, mutual_info_classif, f_regression, f_classif"
   ]
  },
  {
   "cell_type": "markdown",
   "id": "fundamental-pocket",
   "metadata": {},
   "source": [
    "### Loading the modified dataset"
   ]
  },
  {
   "cell_type": "code",
   "execution_count": 9,
   "id": "occasional-apollo",
   "metadata": {
    "ExecuteTime": {
     "end_time": "2021-03-17T16:27:50.553012Z",
     "start_time": "2021-03-17T16:27:48.234536Z"
    }
   },
   "outputs": [],
   "source": [
    "df = pd.read_csv('dataset/data_merged.csv')\n",
    "list(df.columns)\n",
    "del df['mode']\n",
    "del df['key_6_yr']\n",
    "# del df['popularity_yr']\n",
    "# del df['popularity_ar']"
   ]
  },
  {
   "cell_type": "code",
   "execution_count": 10,
   "id": "wicked-entrepreneur",
   "metadata": {
    "ExecuteTime": {
     "end_time": "2021-03-17T16:27:52.097196Z",
     "start_time": "2021-03-17T16:27:52.053060Z"
    }
   },
   "outputs": [
    {
     "data": {
      "text/html": [
       "<div>\n",
       "<style scoped>\n",
       "    .dataframe tbody tr th:only-of-type {\n",
       "        vertical-align: middle;\n",
       "    }\n",
       "\n",
       "    .dataframe tbody tr th {\n",
       "        vertical-align: top;\n",
       "    }\n",
       "\n",
       "    .dataframe thead th {\n",
       "        text-align: right;\n",
       "    }\n",
       "</style>\n",
       "<table border=\"1\" class=\"dataframe\">\n",
       "  <thead>\n",
       "    <tr style=\"text-align: right;\">\n",
       "      <th></th>\n",
       "      <th>acousticness</th>\n",
       "      <th>danceability</th>\n",
       "      <th>duration_ms</th>\n",
       "      <th>energy</th>\n",
       "      <th>explicit</th>\n",
       "      <th>instrumentalness</th>\n",
       "      <th>liveness</th>\n",
       "      <th>loudness</th>\n",
       "      <th>popularity</th>\n",
       "      <th>speechiness</th>\n",
       "      <th>...</th>\n",
       "      <th>speechiness_yr</th>\n",
       "      <th>tempo_yr</th>\n",
       "      <th>valence_yr</th>\n",
       "      <th>popularity_yr</th>\n",
       "      <th>key_0_yr</th>\n",
       "      <th>key_1_yr</th>\n",
       "      <th>key_2_yr</th>\n",
       "      <th>key_3_yr</th>\n",
       "      <th>key_4_yr</th>\n",
       "      <th>key_5_yr</th>\n",
       "    </tr>\n",
       "  </thead>\n",
       "  <tbody>\n",
       "    <tr>\n",
       "      <th>0</th>\n",
       "      <td>0.0131</td>\n",
       "      <td>0.2560</td>\n",
       "      <td>182347</td>\n",
       "      <td>0.895</td>\n",
       "      <td>0</td>\n",
       "      <td>0.000106</td>\n",
       "      <td>0.0821</td>\n",
       "      <td>-4.860</td>\n",
       "      <td>29</td>\n",
       "      <td>0.0707</td>\n",
       "      <td>...</td>\n",
       "      <td>0.064961</td>\n",
       "      <td>120.209319</td>\n",
       "      <td>0.583424</td>\n",
       "      <td>35.272231</td>\n",
       "      <td>0</td>\n",
       "      <td>0</td>\n",
       "      <td>1</td>\n",
       "      <td>0</td>\n",
       "      <td>0</td>\n",
       "      <td>0</td>\n",
       "    </tr>\n",
       "    <tr>\n",
       "      <th>1</th>\n",
       "      <td>0.9800</td>\n",
       "      <td>0.2770</td>\n",
       "      <td>206972</td>\n",
       "      <td>0.145</td>\n",
       "      <td>0</td>\n",
       "      <td>0.879000</td>\n",
       "      <td>0.1110</td>\n",
       "      <td>-19.898</td>\n",
       "      <td>0</td>\n",
       "      <td>0.0845</td>\n",
       "      <td>...</td>\n",
       "      <td>0.092591</td>\n",
       "      <td>110.008113</td>\n",
       "      <td>0.432251</td>\n",
       "      <td>3.672500</td>\n",
       "      <td>1</td>\n",
       "      <td>0</td>\n",
       "      <td>0</td>\n",
       "      <td>0</td>\n",
       "      <td>0</td>\n",
       "      <td>0</td>\n",
       "    </tr>\n",
       "    <tr>\n",
       "      <th>2</th>\n",
       "      <td>0.7950</td>\n",
       "      <td>0.6850</td>\n",
       "      <td>314667</td>\n",
       "      <td>0.483</td>\n",
       "      <td>0</td>\n",
       "      <td>0.878000</td>\n",
       "      <td>0.1130</td>\n",
       "      <td>-10.202</td>\n",
       "      <td>1</td>\n",
       "      <td>0.0337</td>\n",
       "      <td>...</td>\n",
       "      <td>0.103243</td>\n",
       "      <td>108.561912</td>\n",
       "      <td>0.447291</td>\n",
       "      <td>7.707000</td>\n",
       "      <td>0</td>\n",
       "      <td>0</td>\n",
       "      <td>0</td>\n",
       "      <td>1</td>\n",
       "      <td>0</td>\n",
       "      <td>0</td>\n",
       "    </tr>\n",
       "    <tr>\n",
       "      <th>3</th>\n",
       "      <td>0.6560</td>\n",
       "      <td>0.7880</td>\n",
       "      <td>179747</td>\n",
       "      <td>0.808</td>\n",
       "      <td>0</td>\n",
       "      <td>0.000000</td>\n",
       "      <td>0.1540</td>\n",
       "      <td>-6.590</td>\n",
       "      <td>0</td>\n",
       "      <td>0.0395</td>\n",
       "      <td>...</td>\n",
       "      <td>0.103243</td>\n",
       "      <td>108.561912</td>\n",
       "      <td>0.447291</td>\n",
       "      <td>7.707000</td>\n",
       "      <td>0</td>\n",
       "      <td>0</td>\n",
       "      <td>0</td>\n",
       "      <td>1</td>\n",
       "      <td>0</td>\n",
       "      <td>0</td>\n",
       "    </tr>\n",
       "    <tr>\n",
       "      <th>4</th>\n",
       "      <td>0.3020</td>\n",
       "      <td>0.0753</td>\n",
       "      <td>498560</td>\n",
       "      <td>0.150</td>\n",
       "      <td>0</td>\n",
       "      <td>0.884000</td>\n",
       "      <td>0.1210</td>\n",
       "      <td>-16.705</td>\n",
       "      <td>0</td>\n",
       "      <td>0.0371</td>\n",
       "      <td>...</td>\n",
       "      <td>0.107351</td>\n",
       "      <td>109.569882</td>\n",
       "      <td>0.443625</td>\n",
       "      <td>3.419500</td>\n",
       "      <td>1</td>\n",
       "      <td>0</td>\n",
       "      <td>0</td>\n",
       "      <td>0</td>\n",
       "      <td>0</td>\n",
       "      <td>0</td>\n",
       "    </tr>\n",
       "  </tbody>\n",
       "</table>\n",
       "<p>5 rows × 70 columns</p>\n",
       "</div>"
      ],
      "text/plain": [
       "   acousticness  danceability  duration_ms  energy  explicit  \\\n",
       "0        0.0131        0.2560       182347   0.895         0   \n",
       "1        0.9800        0.2770       206972   0.145         0   \n",
       "2        0.7950        0.6850       314667   0.483         0   \n",
       "3        0.6560        0.7880       179747   0.808         0   \n",
       "4        0.3020        0.0753       498560   0.150         0   \n",
       "\n",
       "   instrumentalness  liveness  loudness  popularity  speechiness  ...  \\\n",
       "0          0.000106    0.0821    -4.860          29       0.0707  ...   \n",
       "1          0.879000    0.1110   -19.898           0       0.0845  ...   \n",
       "2          0.878000    0.1130   -10.202           1       0.0337  ...   \n",
       "3          0.000000    0.1540    -6.590           0       0.0395  ...   \n",
       "4          0.884000    0.1210   -16.705           0       0.0371  ...   \n",
       "\n",
       "   speechiness_yr    tempo_yr  valence_yr  popularity_yr  key_0_yr  key_1_yr  \\\n",
       "0        0.064961  120.209319    0.583424      35.272231         0         0   \n",
       "1        0.092591  110.008113    0.432251       3.672500         1         0   \n",
       "2        0.103243  108.561912    0.447291       7.707000         0         0   \n",
       "3        0.103243  108.561912    0.447291       7.707000         0         0   \n",
       "4        0.107351  109.569882    0.443625       3.419500         1         0   \n",
       "\n",
       "   key_2_yr  key_3_yr  key_4_yr  key_5_yr  \n",
       "0         1         0         0         0  \n",
       "1         0         0         0         0  \n",
       "2         0         1         0         0  \n",
       "3         0         1         0         0  \n",
       "4         0         0         0         0  \n",
       "\n",
       "[5 rows x 70 columns]"
      ]
     },
     "execution_count": 10,
     "metadata": {},
     "output_type": "execute_result"
    }
   ],
   "source": [
    "df.head()"
   ]
  },
  {
   "cell_type": "markdown",
   "id": "bridal-prison",
   "metadata": {},
   "source": [
    "### Linear Regression"
   ]
  },
  {
   "cell_type": "code",
   "execution_count": 11,
   "id": "spatial-andrew",
   "metadata": {
    "ExecuteTime": {
     "end_time": "2021-03-17T16:27:54.762722Z",
     "start_time": "2021-03-17T16:27:54.231664Z"
    }
   },
   "outputs": [
    {
     "data": {
      "text/plain": [
       "(172230, 25)"
      ]
     },
     "execution_count": 11,
     "metadata": {},
     "output_type": "execute_result"
    }
   ],
   "source": [
    "X = df[df.columns.difference(['popularity'])]\n",
    "y = df['popularity']\n",
    "X_new = SelectKBest(f_regression, k=25).fit_transform(X, y)\n",
    "X_new.shape"
   ]
  },
  {
   "cell_type": "code",
   "execution_count": 12,
   "id": "atlantic-roommate",
   "metadata": {
    "ExecuteTime": {
     "end_time": "2021-03-17T16:27:58.549456Z",
     "start_time": "2021-03-17T16:27:58.521380Z"
    }
   },
   "outputs": [
    {
     "ename": "ValueError",
     "evalue": "The least populated class in y has only 1 member, which is too few. The minimum number of groups for any class cannot be less than 2.",
     "output_type": "error",
     "traceback": [
      "\u001b[0;31m---------------------------------------------------------------------------\u001b[0m",
      "\u001b[0;31mValueError\u001b[0m                                Traceback (most recent call last)",
      "\u001b[0;32m<ipython-input-12-2b1e5b7aeb8d>\u001b[0m in \u001b[0;36m<module>\u001b[0;34m\u001b[0m\n\u001b[0;32m----> 1\u001b[0;31m \u001b[0mX_train\u001b[0m\u001b[0;34m,\u001b[0m \u001b[0mX_test\u001b[0m\u001b[0;34m,\u001b[0m \u001b[0my_train\u001b[0m\u001b[0;34m,\u001b[0m \u001b[0my_test\u001b[0m \u001b[0;34m=\u001b[0m \u001b[0mtrain_test_split\u001b[0m\u001b[0;34m(\u001b[0m\u001b[0mX_new\u001b[0m\u001b[0;34m,\u001b[0m \u001b[0my\u001b[0m\u001b[0;34m,\u001b[0m \u001b[0mtest_size\u001b[0m\u001b[0;34m=\u001b[0m\u001b[0;36m0.2\u001b[0m\u001b[0;34m,\u001b[0m \u001b[0mstratify\u001b[0m\u001b[0;34m=\u001b[0m\u001b[0my\u001b[0m\u001b[0;34m)\u001b[0m\u001b[0;34m\u001b[0m\u001b[0;34m\u001b[0m\u001b[0m\n\u001b[0m\u001b[1;32m      2\u001b[0m \u001b[0mclf\u001b[0m \u001b[0;34m=\u001b[0m \u001b[0mLinearRegression\u001b[0m\u001b[0;34m(\u001b[0m\u001b[0;34m)\u001b[0m\u001b[0;34m.\u001b[0m\u001b[0mfit\u001b[0m\u001b[0;34m(\u001b[0m\u001b[0mX_train\u001b[0m\u001b[0;34m,\u001b[0m \u001b[0my_train\u001b[0m\u001b[0;34m)\u001b[0m\u001b[0;34m\u001b[0m\u001b[0;34m\u001b[0m\u001b[0m\n\u001b[1;32m      3\u001b[0m \u001b[0my_pred\u001b[0m \u001b[0;34m=\u001b[0m \u001b[0mclf\u001b[0m\u001b[0;34m.\u001b[0m\u001b[0mpredict\u001b[0m\u001b[0;34m(\u001b[0m\u001b[0mX_test\u001b[0m\u001b[0;34m)\u001b[0m\u001b[0;34m\u001b[0m\u001b[0;34m\u001b[0m\u001b[0m\n\u001b[1;32m      4\u001b[0m print('Coefficient of determination: %.2f'\n\u001b[1;32m      5\u001b[0m       % r2_score(y_test, y_pred))\n",
      "\u001b[0;32m~/dev/Academic/ml-spotify/venv/lib/python3.9/site-packages/sklearn/model_selection/_split.py\u001b[0m in \u001b[0;36mtrain_test_split\u001b[0;34m(test_size, train_size, random_state, shuffle, stratify, *arrays)\u001b[0m\n\u001b[1;32m   2195\u001b[0m                      random_state=random_state)\n\u001b[1;32m   2196\u001b[0m \u001b[0;34m\u001b[0m\u001b[0m\n\u001b[0;32m-> 2197\u001b[0;31m         \u001b[0mtrain\u001b[0m\u001b[0;34m,\u001b[0m \u001b[0mtest\u001b[0m \u001b[0;34m=\u001b[0m \u001b[0mnext\u001b[0m\u001b[0;34m(\u001b[0m\u001b[0mcv\u001b[0m\u001b[0;34m.\u001b[0m\u001b[0msplit\u001b[0m\u001b[0;34m(\u001b[0m\u001b[0mX\u001b[0m\u001b[0;34m=\u001b[0m\u001b[0marrays\u001b[0m\u001b[0;34m[\u001b[0m\u001b[0;36m0\u001b[0m\u001b[0;34m]\u001b[0m\u001b[0;34m,\u001b[0m \u001b[0my\u001b[0m\u001b[0;34m=\u001b[0m\u001b[0mstratify\u001b[0m\u001b[0;34m)\u001b[0m\u001b[0;34m)\u001b[0m\u001b[0;34m\u001b[0m\u001b[0;34m\u001b[0m\u001b[0m\n\u001b[0m\u001b[1;32m   2198\u001b[0m \u001b[0;34m\u001b[0m\u001b[0m\n\u001b[1;32m   2199\u001b[0m     return list(chain.from_iterable((_safe_indexing(a, train),\n",
      "\u001b[0;32m~/dev/Academic/ml-spotify/venv/lib/python3.9/site-packages/sklearn/model_selection/_split.py\u001b[0m in \u001b[0;36msplit\u001b[0;34m(self, X, y, groups)\u001b[0m\n\u001b[1;32m   1385\u001b[0m         \"\"\"\n\u001b[1;32m   1386\u001b[0m         \u001b[0mX\u001b[0m\u001b[0;34m,\u001b[0m \u001b[0my\u001b[0m\u001b[0;34m,\u001b[0m \u001b[0mgroups\u001b[0m \u001b[0;34m=\u001b[0m \u001b[0mindexable\u001b[0m\u001b[0;34m(\u001b[0m\u001b[0mX\u001b[0m\u001b[0;34m,\u001b[0m \u001b[0my\u001b[0m\u001b[0;34m,\u001b[0m \u001b[0mgroups\u001b[0m\u001b[0;34m)\u001b[0m\u001b[0;34m\u001b[0m\u001b[0;34m\u001b[0m\u001b[0m\n\u001b[0;32m-> 1387\u001b[0;31m         \u001b[0;32mfor\u001b[0m \u001b[0mtrain\u001b[0m\u001b[0;34m,\u001b[0m \u001b[0mtest\u001b[0m \u001b[0;32min\u001b[0m \u001b[0mself\u001b[0m\u001b[0;34m.\u001b[0m\u001b[0m_iter_indices\u001b[0m\u001b[0;34m(\u001b[0m\u001b[0mX\u001b[0m\u001b[0;34m,\u001b[0m \u001b[0my\u001b[0m\u001b[0;34m,\u001b[0m \u001b[0mgroups\u001b[0m\u001b[0;34m)\u001b[0m\u001b[0;34m:\u001b[0m\u001b[0;34m\u001b[0m\u001b[0;34m\u001b[0m\u001b[0m\n\u001b[0m\u001b[1;32m   1388\u001b[0m             \u001b[0;32myield\u001b[0m \u001b[0mtrain\u001b[0m\u001b[0;34m,\u001b[0m \u001b[0mtest\u001b[0m\u001b[0;34m\u001b[0m\u001b[0;34m\u001b[0m\u001b[0m\n\u001b[1;32m   1389\u001b[0m \u001b[0;34m\u001b[0m\u001b[0m\n",
      "\u001b[0;32m~/dev/Academic/ml-spotify/venv/lib/python3.9/site-packages/sklearn/model_selection/_split.py\u001b[0m in \u001b[0;36m_iter_indices\u001b[0;34m(self, X, y, groups)\u001b[0m\n\u001b[1;32m   1713\u001b[0m         \u001b[0mclass_counts\u001b[0m \u001b[0;34m=\u001b[0m \u001b[0mnp\u001b[0m\u001b[0;34m.\u001b[0m\u001b[0mbincount\u001b[0m\u001b[0;34m(\u001b[0m\u001b[0my_indices\u001b[0m\u001b[0;34m)\u001b[0m\u001b[0;34m\u001b[0m\u001b[0;34m\u001b[0m\u001b[0m\n\u001b[1;32m   1714\u001b[0m         \u001b[0;32mif\u001b[0m \u001b[0mnp\u001b[0m\u001b[0;34m.\u001b[0m\u001b[0mmin\u001b[0m\u001b[0;34m(\u001b[0m\u001b[0mclass_counts\u001b[0m\u001b[0;34m)\u001b[0m \u001b[0;34m<\u001b[0m \u001b[0;36m2\u001b[0m\u001b[0;34m:\u001b[0m\u001b[0;34m\u001b[0m\u001b[0;34m\u001b[0m\u001b[0m\n\u001b[0;32m-> 1715\u001b[0;31m             raise ValueError(\"The least populated class in y has only 1\"\n\u001b[0m\u001b[1;32m   1716\u001b[0m                              \u001b[0;34m\" member, which is too few. The minimum\"\u001b[0m\u001b[0;34m\u001b[0m\u001b[0;34m\u001b[0m\u001b[0m\n\u001b[1;32m   1717\u001b[0m                              \u001b[0;34m\" number of groups for any class cannot\"\u001b[0m\u001b[0;34m\u001b[0m\u001b[0;34m\u001b[0m\u001b[0m\n",
      "\u001b[0;31mValueError\u001b[0m: The least populated class in y has only 1 member, which is too few. The minimum number of groups for any class cannot be less than 2."
     ]
    }
   ],
   "source": [
    "X_train, X_test, y_train, y_test = train_test_split(X_new, y, test_size=0.2, stratify=y)\n",
    "clf = LinearRegression().fit(X_train, y_train)\n",
    "y_pred = clf.predict(X_test)\n",
    "print('Coefficient of determination: %.2f'\n",
    "      % r2_score(y_test, y_pred))\n",
    "print('Mean squared error: %.2f'\n",
    "      % mean_squared_error(y_test, y_pred))"
   ]
  },
  {
   "cell_type": "markdown",
   "id": "constant-council",
   "metadata": {},
   "source": [
    "### Polynomial Regression"
   ]
  },
  {
   "cell_type": "code",
   "execution_count": 8,
   "id": "imperial-stockholm",
   "metadata": {
    "ExecuteTime": {
     "end_time": "2021-03-17T16:27:46.497882Z",
     "start_time": "2021-03-17T16:27:32.044908Z"
    }
   },
   "outputs": [
    {
     "ename": "KeyboardInterrupt",
     "evalue": "",
     "output_type": "error",
     "traceback": [
      "\u001b[0;31m---------------------------------------------------------------------------\u001b[0m",
      "\u001b[0;31mKeyboardInterrupt\u001b[0m                         Traceback (most recent call last)",
      "\u001b[0;32m<ipython-input-8-7ba91f3b30d7>\u001b[0m in \u001b[0;36m<module>\u001b[0;34m\u001b[0m\n\u001b[1;32m      2\u001b[0m \u001b[0mX_poly\u001b[0m \u001b[0;34m=\u001b[0m \u001b[0mpoly\u001b[0m\u001b[0;34m.\u001b[0m\u001b[0mfit_transform\u001b[0m\u001b[0;34m(\u001b[0m\u001b[0mX_new\u001b[0m\u001b[0;34m)\u001b[0m\u001b[0;34m\u001b[0m\u001b[0;34m\u001b[0m\u001b[0m\n\u001b[1;32m      3\u001b[0m \u001b[0mX_train1\u001b[0m\u001b[0;34m,\u001b[0m \u001b[0mX_test1\u001b[0m\u001b[0;34m,\u001b[0m \u001b[0my_train1\u001b[0m\u001b[0;34m,\u001b[0m \u001b[0my_test1\u001b[0m \u001b[0;34m=\u001b[0m \u001b[0mtrain_test_split\u001b[0m\u001b[0;34m(\u001b[0m\u001b[0mX_poly\u001b[0m\u001b[0;34m,\u001b[0m \u001b[0my\u001b[0m\u001b[0;34m,\u001b[0m \u001b[0mtest_size\u001b[0m\u001b[0;34m=\u001b[0m\u001b[0;36m0.2\u001b[0m\u001b[0;34m)\u001b[0m\u001b[0;34m\u001b[0m\u001b[0;34m\u001b[0m\u001b[0m\n\u001b[0;32m----> 4\u001b[0;31m \u001b[0mclf1\u001b[0m \u001b[0;34m=\u001b[0m \u001b[0mLinearRegression\u001b[0m\u001b[0;34m(\u001b[0m\u001b[0;34m)\u001b[0m\u001b[0;34m.\u001b[0m\u001b[0mfit\u001b[0m\u001b[0;34m(\u001b[0m\u001b[0mX_train1\u001b[0m\u001b[0;34m,\u001b[0m \u001b[0my_train1\u001b[0m\u001b[0;34m)\u001b[0m\u001b[0;34m\u001b[0m\u001b[0;34m\u001b[0m\u001b[0m\n\u001b[0m\u001b[1;32m      5\u001b[0m \u001b[0my_pred1\u001b[0m \u001b[0;34m=\u001b[0m \u001b[0mclf1\u001b[0m\u001b[0;34m.\u001b[0m\u001b[0mpredict\u001b[0m\u001b[0;34m(\u001b[0m\u001b[0mX_test1\u001b[0m\u001b[0;34m)\u001b[0m\u001b[0;34m\u001b[0m\u001b[0;34m\u001b[0m\u001b[0m\n\u001b[1;32m      6\u001b[0m print('Coefficient of determination: %.2f'\n",
      "\u001b[0;32m~/dev/Academic/ml-spotify/venv/lib/python3.9/site-packages/sklearn/linear_model/_base.py\u001b[0m in \u001b[0;36mfit\u001b[0;34m(self, X, y, sample_weight)\u001b[0m\n\u001b[1;32m    567\u001b[0m         \u001b[0;32melse\u001b[0m\u001b[0;34m:\u001b[0m\u001b[0;34m\u001b[0m\u001b[0;34m\u001b[0m\u001b[0m\n\u001b[1;32m    568\u001b[0m             \u001b[0mself\u001b[0m\u001b[0;34m.\u001b[0m\u001b[0mcoef_\u001b[0m\u001b[0;34m,\u001b[0m \u001b[0mself\u001b[0m\u001b[0;34m.\u001b[0m\u001b[0m_residues\u001b[0m\u001b[0;34m,\u001b[0m \u001b[0mself\u001b[0m\u001b[0;34m.\u001b[0m\u001b[0mrank_\u001b[0m\u001b[0;34m,\u001b[0m \u001b[0mself\u001b[0m\u001b[0;34m.\u001b[0m\u001b[0msingular_\u001b[0m \u001b[0;34m=\u001b[0m\u001b[0;31m \u001b[0m\u001b[0;31m\\\u001b[0m\u001b[0;34m\u001b[0m\u001b[0;34m\u001b[0m\u001b[0m\n\u001b[0;32m--> 569\u001b[0;31m                 \u001b[0mlinalg\u001b[0m\u001b[0;34m.\u001b[0m\u001b[0mlstsq\u001b[0m\u001b[0;34m(\u001b[0m\u001b[0mX\u001b[0m\u001b[0;34m,\u001b[0m \u001b[0my\u001b[0m\u001b[0;34m)\u001b[0m\u001b[0;34m\u001b[0m\u001b[0;34m\u001b[0m\u001b[0m\n\u001b[0m\u001b[1;32m    570\u001b[0m             \u001b[0mself\u001b[0m\u001b[0;34m.\u001b[0m\u001b[0mcoef_\u001b[0m \u001b[0;34m=\u001b[0m \u001b[0mself\u001b[0m\u001b[0;34m.\u001b[0m\u001b[0mcoef_\u001b[0m\u001b[0;34m.\u001b[0m\u001b[0mT\u001b[0m\u001b[0;34m\u001b[0m\u001b[0;34m\u001b[0m\u001b[0m\n\u001b[1;32m    571\u001b[0m \u001b[0;34m\u001b[0m\u001b[0m\n",
      "\u001b[0;32m~/dev/Academic/ml-spotify/venv/lib/python3.9/site-packages/scipy/linalg/basic.py\u001b[0m in \u001b[0;36mlstsq\u001b[0;34m(a, b, cond, overwrite_a, overwrite_b, check_finite, lapack_driver)\u001b[0m\n\u001b[1;32m   1197\u001b[0m             \u001b[0;32mif\u001b[0m \u001b[0mreal_data\u001b[0m\u001b[0;34m:\u001b[0m\u001b[0;34m\u001b[0m\u001b[0;34m\u001b[0m\u001b[0m\n\u001b[1;32m   1198\u001b[0m                 \u001b[0mlwork\u001b[0m\u001b[0;34m,\u001b[0m \u001b[0miwork\u001b[0m \u001b[0;34m=\u001b[0m \u001b[0m_compute_lwork\u001b[0m\u001b[0;34m(\u001b[0m\u001b[0mlapack_lwork\u001b[0m\u001b[0;34m,\u001b[0m \u001b[0mm\u001b[0m\u001b[0;34m,\u001b[0m \u001b[0mn\u001b[0m\u001b[0;34m,\u001b[0m \u001b[0mnrhs\u001b[0m\u001b[0;34m,\u001b[0m \u001b[0mcond\u001b[0m\u001b[0;34m)\u001b[0m\u001b[0;34m\u001b[0m\u001b[0;34m\u001b[0m\u001b[0m\n\u001b[0;32m-> 1199\u001b[0;31m                 x, s, rank, info = lapack_func(a1, b1, lwork,\n\u001b[0m\u001b[1;32m   1200\u001b[0m                                                iwork, cond, False, False)\n\u001b[1;32m   1201\u001b[0m             \u001b[0;32melse\u001b[0m\u001b[0;34m:\u001b[0m  \u001b[0;31m# complex data\u001b[0m\u001b[0;34m\u001b[0m\u001b[0;34m\u001b[0m\u001b[0m\n",
      "\u001b[0;31mKeyboardInterrupt\u001b[0m: "
     ]
    }
   ],
   "source": [
    "poly = PolynomialFeatures(degree=2) ## Degree 3 kills my PC! I think the issue is not enough RAM. \n",
    "X_poly = poly.fit_transform(X_new)\n",
    "X_train1, X_test1, y_train1, y_test1 = train_test_split(X_poly, y, test_size=0.2)\n",
    "clf1 = LinearRegression().fit(X_train1, y_train1)\n",
    "y_pred1 = clf1.predict(X_test1)\n",
    "print('Coefficient of determination: %.2f'\n",
    "      % r2_score(y_test1, y_pred1))\n",
    "print('Mean squared error: %.2f'\n",
    "      % mean_squared_error(y_test1, y_pred1))"
   ]
  },
  {
   "cell_type": "markdown",
   "id": "successful-stanley",
   "metadata": {},
   "source": [
    "With all features polynomial regression for degree = 2 gives an r2_score of 0.64"
   ]
  },
  {
   "cell_type": "markdown",
   "id": "noble-birthday",
   "metadata": {},
   "source": [
    "###  Logistic Regression\n",
    "\n",
    "#### With 3 categories"
   ]
  },
  {
   "cell_type": "code",
   "execution_count": 13,
   "id": "oriented-microwave",
   "metadata": {
    "ExecuteTime": {
     "end_time": "2021-03-17T16:28:15.759407Z",
     "start_time": "2021-03-17T16:28:14.339487Z"
    }
   },
   "outputs": [
    {
     "data": {
      "text/plain": [
       "(172230, 27)"
      ]
     },
     "execution_count": 13,
     "metadata": {},
     "output_type": "execute_result"
    }
   ],
   "source": [
    "X1 = df[df.columns.difference(['popularity'])]\n",
    "y1 = pd.cut(x=df[\"popularity\"], bins=[-1,20,50,100], labels=[0,1,2]) ## Threshold can be either 50 (median) or 26 (mean)\n",
    "X_new1 = SelectKBest(f_classif, k=27).fit_transform(X1, y1)\n",
    "X_new1.shape"
   ]
  },
  {
   "cell_type": "markdown",
   "id": "breathing-transcript",
   "metadata": {},
   "source": [
    "Here, a maximum accuracy score of 0.641 is achieved upon selecting 27 features, after which the score more or less plateaus and the optimization function fails to converge within a small number of iterations. \n",
    "\n",
    "Increasing the max number of iterations allows it to converge but the accuracy score does not see any improvement. "
   ]
  },
  {
   "cell_type": "code",
   "execution_count": 17,
   "id": "operating-weight",
   "metadata": {
    "ExecuteTime": {
     "end_time": "2021-03-17T16:29:20.423605Z",
     "start_time": "2021-03-17T16:29:09.295113Z"
    },
    "scrolled": true
   },
   "outputs": [
    {
     "name": "stderr",
     "output_type": "stream",
     "text": [
      "/home/prayag_s/dev/Academic/ml-spotify/venv/lib/python3.9/site-packages/sklearn/linear_model/_logistic.py:763: ConvergenceWarning: lbfgs failed to converge (status=1):\n",
      "STOP: TOTAL NO. of ITERATIONS REACHED LIMIT.\n",
      "\n",
      "Increase the number of iterations (max_iter) or scale the data as shown in:\n",
      "    https://scikit-learn.org/stable/modules/preprocessing.html\n",
      "Please also refer to the documentation for alternative solver options:\n",
      "    https://scikit-learn.org/stable/modules/linear_model.html#logistic-regression\n",
      "  n_iter_i = _check_optimize_result(\n"
     ]
    },
    {
     "data": {
      "text/plain": [
       "0.8035185507751262"
      ]
     },
     "execution_count": 17,
     "metadata": {},
     "output_type": "execute_result"
    }
   ],
   "source": [
    "X_train2, X_test2, y_train2, y_test2 = train_test_split(X_new1, y1, test_size=0.20, stratify=y1)\n",
    "clf2 = LogisticRegression(random_state=42).fit(X_train2, y_train2)\n",
    "y_pred2 = clf2.predict(X_test2)\n",
    "accuracy_score(y_test2, y_pred2)"
   ]
  },
  {
   "cell_type": "code",
   "execution_count": 25,
   "id": "perfect-heather",
   "metadata": {
    "ExecuteTime": {
     "end_time": "2021-03-17T13:43:00.468333Z",
     "start_time": "2021-03-17T13:43:00.409672Z"
    }
   },
   "outputs": [
    {
     "name": "stdout",
     "output_type": "stream",
     "text": [
      "              precision    recall  f1-score   support\n",
      "\n",
      "           0       0.90      0.93      0.91     14752\n",
      "           1       0.70      0.89      0.78     14319\n",
      "           2       0.94      0.16      0.27      5375\n",
      "\n",
      "    accuracy                           0.79     34446\n",
      "   macro avg       0.85      0.66      0.66     34446\n",
      "weighted avg       0.82      0.79      0.76     34446\n",
      "\n"
     ]
    }
   ],
   "source": [
    "from sklearn.metrics import classification_report\n",
    "print(classification_report(y_test2, y_pred2))"
   ]
  },
  {
   "cell_type": "markdown",
   "id": "otherwise-conviction",
   "metadata": {},
   "source": [
    "Why does the accuracy score give different values everytime I run it? I have fixed the random_state. "
   ]
  },
  {
   "cell_type": "markdown",
   "id": "auburn-iceland",
   "metadata": {},
   "source": [
    "#### With 2 categories"
   ]
  },
  {
   "cell_type": "code",
   "execution_count": 18,
   "id": "sorted-serum",
   "metadata": {
    "ExecuteTime": {
     "end_time": "2021-03-17T16:29:35.576345Z",
     "start_time": "2021-03-17T16:29:34.620357Z"
    }
   },
   "outputs": [],
   "source": [
    "y1 = pd.cut(x=df[\"popularity\"], bins=[-1,50,100], labels=[0,1]) ## Threshold can be either 50 (median) or 26 (mean)\n",
    "X_new1 = SelectKBest(f_classif, k=27).fit_transform(X1, y1)\n",
    "\n",
    "mean_popularity = 50\n",
    "df[\"popularity\"] = [ 1 if i >= mean_popularity else 0 for i in df.popularity ]\n",
    "y1 = df[\"popularity\"].values\n",
    "# Counter(y1)"
   ]
  },
  {
   "cell_type": "code",
   "execution_count": 19,
   "id": "statutory-brunei",
   "metadata": {
    "ExecuteTime": {
     "end_time": "2021-03-17T16:29:38.926904Z",
     "start_time": "2021-03-17T16:29:36.972092Z"
    }
   },
   "outputs": [
    {
     "data": {
      "text/plain": [
       "0.9110782093711897"
      ]
     },
     "execution_count": 19,
     "metadata": {},
     "output_type": "execute_result"
    }
   ],
   "source": [
    "X_train2, X_test2, y_train2, y_test2 = train_test_split(X_new1, y1, test_size=0.2, random_state=42, stratify=y1)\n",
    "clf2 = LogisticRegression(random_state=42).fit(X_train2, y_train2)\n",
    "y_pred2 = clf2.predict(X_test2)\n",
    "accuracy_score(y_test2, y_pred2)"
   ]
  },
  {
   "cell_type": "code",
   "execution_count": 20,
   "id": "operating-experience",
   "metadata": {
    "ExecuteTime": {
     "end_time": "2021-03-17T16:29:40.795578Z",
     "start_time": "2021-03-17T16:29:40.763349Z"
    }
   },
   "outputs": [
    {
     "data": {
      "text/plain": [
       "0.9105629100621262"
      ]
     },
     "execution_count": 20,
     "metadata": {},
     "output_type": "execute_result"
    }
   ],
   "source": [
    "accuracy_score(y_train2, clf2.predict(X_train2))"
   ]
  },
  {
   "cell_type": "code",
   "execution_count": 21,
   "id": "sticky-numbers",
   "metadata": {
    "ExecuteTime": {
     "end_time": "2021-03-17T16:29:43.718973Z",
     "start_time": "2021-03-17T16:29:43.704567Z"
    }
   },
   "outputs": [
    {
     "ename": "NameError",
     "evalue": "name 'classification_report' is not defined",
     "output_type": "error",
     "traceback": [
      "\u001b[0;31m---------------------------------------------------------------------------\u001b[0m",
      "\u001b[0;31mNameError\u001b[0m                                 Traceback (most recent call last)",
      "\u001b[0;32m<ipython-input-21-560ce9ac71c4>\u001b[0m in \u001b[0;36m<module>\u001b[0;34m\u001b[0m\n\u001b[0;32m----> 1\u001b[0;31m \u001b[0mprint\u001b[0m\u001b[0;34m(\u001b[0m\u001b[0mclassification_report\u001b[0m\u001b[0;34m(\u001b[0m\u001b[0my_test2\u001b[0m\u001b[0;34m,\u001b[0m \u001b[0my_pred2\u001b[0m\u001b[0;34m)\u001b[0m\u001b[0;34m)\u001b[0m\u001b[0;34m\u001b[0m\u001b[0;34m\u001b[0m\u001b[0m\n\u001b[0m",
      "\u001b[0;31mNameError\u001b[0m: name 'classification_report' is not defined"
     ]
    }
   ],
   "source": [
    "print(classification_report(y_test2, y_pred2))"
   ]
  },
  {
   "cell_type": "code",
   "execution_count": 22,
   "id": "dedicated-progressive",
   "metadata": {
    "ExecuteTime": {
     "end_time": "2021-03-17T16:29:46.880743Z",
     "start_time": "2021-03-17T16:29:46.848585Z"
    }
   },
   "outputs": [
    {
     "data": {
      "text/plain": [
       "0.9299054667776778"
      ]
     },
     "execution_count": 22,
     "metadata": {},
     "output_type": "execute_result"
    }
   ],
   "source": [
    "from sklearn.metrics import roc_curve, roc_auc_score\n",
    "# predict probabilities\n",
    "lr_probs = clf2.predict_proba(X_test2)\n",
    "# keep probabilities for the positive outcome only\n",
    "lr_probs = lr_probs[:, 1]\n",
    "# calculate scores\n",
    "lr_auc = roc_auc_score(y_test2, lr_probs)\n",
    "lr_auc"
   ]
  },
  {
   "cell_type": "code",
   "execution_count": 98,
   "id": "tough-investing",
   "metadata": {
    "ExecuteTime": {
     "end_time": "2021-03-17T11:01:34.510335Z",
     "start_time": "2021-03-17T11:01:34.309645Z"
    }
   },
   "outputs": [
    {
     "name": "stdout",
     "output_type": "stream",
     "text": [
      "Best Threshold=0.193880, G-Mean=0.843\n"
     ]
    },
    {
     "data": {
      "image/png": "[encoded data removed]",
      "text/plain": [
       "<Figure size 432x288 with 1 Axes>"
      ]
     },
     "metadata": {},
     "output_type": "display_data"
    }
   ],
   "source": [
    "from matplotlib import pyplot\n",
    "from numpy import sqrt, argmax, save\n",
    "import numpy as np\n",
    "# calculate roc curves\n",
    "fpr, tpr, thresholds = roc_curve(y_test2, lr_probs)\n",
    "# calculate the g-mean for each threshold\n",
    "gmeans = sqrt(tpr * (1-fpr))\n",
    "# locate the index of the largest g-mean\n",
    "ix = argmax(gmeans)\n",
    "print('Best Threshold=%f, G-Mean=%.3f' % (thresholds[ix], gmeans[ix]))\n",
    "# plot the roc curve for the model\n",
    "pyplot.plot([0,1], [0,1], linestyle='--', label='No Skill')\n",
    "pyplot.plot(fpr, tpr, marker='.', label='Logistic')\n",
    "pyplot.scatter(fpr[ix], tpr[ix], marker='o', color='black', label='Best')\n",
    "# axis labels\n",
    "pyplot.xlabel('False Positive Rate')\n",
    "pyplot.ylabel('True Positive Rate')\n",
    "pyplot.legend()\n",
    "# show the plot\n",
    "pyplot.show()"
   ]
  },
  {
   "cell_type": "code",
   "execution_count": 99,
   "id": "entertaining-grass",
   "metadata": {
    "ExecuteTime": {
     "end_time": "2021-03-17T11:01:38.789402Z",
     "start_time": "2021-03-17T11:01:38.541187Z"
    }
   },
   "outputs": [
    {
     "name": "stdout",
     "output_type": "stream",
     "text": [
      "SVM: f1=0.705 auc=0.792\n",
      "Best Threshold=0.417149, F-Score=0.712\n"
     ]
    },
    {
     "data": {
      "image/png": "[encoded data removed]",
      "text/plain": [
       "<Figure size 432x288 with 1 Axes>"
      ]
     },
     "metadata": {},
     "output_type": "display_data"
    }
   ],
   "source": [
    "from sklearn.metrics import auc, precision_recall_curve, f1_score\n",
    "lr_precision, lr_recall, thresholds = precision_recall_curve(y_test2, lr_probs)\n",
    "lr_f1, lr_auc = f1_score(y_test2, y_pred2), auc(lr_recall, lr_precision)\n",
    "# summarize scores\n",
    "print('SVM: f1=%.3f auc=%.3f' % (lr_f1, lr_auc))\n",
    "# convert to f score\n",
    "fscore = (2 * lr_precision * lr_recall) / (lr_precision + lr_recall)\n",
    "# locate the index of the largest f \n",
    "from numpy import argmax\n",
    "ix = argmax(fscore)\n",
    "print('Best Threshold=%f, F-Score=%.3f' % (thresholds[ix], fscore[ix]))\n",
    "# plot the roc curve for the model\n",
    "no_skill = len(y_test2[y_test2==1]) / len(y_test2)\n",
    "pyplot.plot([0,1], [no_skill,no_skill], linestyle='--', label='No Skill')\n",
    "pyplot.plot(lr_recall, lr_precision, marker='.', label='Logistic')\n",
    "pyplot.scatter(lr_recall[ix], lr_precision[ix], marker='o', color='black', label='Best')\n",
    "# axis labels\n",
    "pyplot.xlabel('Recall')\n",
    "pyplot.ylabel('Precision')\n",
    "pyplot.legend()\n",
    "# show the plot\n",
    "pyplot.show()"
   ]
  },
  {
   "cell_type": "code",
   "execution_count": 100,
   "id": "lovely-regard",
   "metadata": {
    "ExecuteTime": {
     "end_time": "2021-03-17T11:01:43.925673Z",
     "start_time": "2021-03-17T11:01:43.916376Z"
    }
   },
   "outputs": [],
   "source": [
    "import numpy as np\n",
    "f = open(\"fpr_lr\", \"wb\")\n",
    "f1 = open(\"tpr_lr\", \"wb\")\n",
    "f2 = open(\"lr_pre_lr\", \"wb\")\n",
    "f3 = open(\"lr_rec_lr\", \"wb\")\n",
    "np.save(f, fpr)\n",
    "np.save(f1, tpr)\n",
    "np.save(f2, lr_precision)\n",
    "np.save(f3, lr_recall)"
   ]
  },
  {
   "cell_type": "markdown",
   "id": "dependent-specification",
   "metadata": {},
   "source": [
    "Convergence sometimes happens, sometimes not. "
   ]
  },
  {
   "cell_type": "markdown",
   "id": "macro-genome",
   "metadata": {},
   "source": [
    "### Reducing Sample Size"
   ]
  },
  {
   "cell_type": "code",
   "execution_count": 12,
   "id": "located-canadian",
   "metadata": {},
   "outputs": [],
   "source": [
    "from sklearn.utils import resample"
   ]
  },
  {
   "cell_type": "code",
   "execution_count": 26,
   "id": "native-salad",
   "metadata": {},
   "outputs": [
    {
     "data": {
      "text/html": [
       "<div>\n",
       "<style scoped>\n",
       "    .dataframe tbody tr th:only-of-type {\n",
       "        vertical-align: middle;\n",
       "    }\n",
       "\n",
       "    .dataframe tbody tr th {\n",
       "        vertical-align: top;\n",
       "    }\n",
       "\n",
       "    .dataframe thead th {\n",
       "        text-align: right;\n",
       "    }\n",
       "</style>\n",
       "<table border=\"1\" class=\"dataframe\">\n",
       "  <thead>\n",
       "    <tr style=\"text-align: right;\">\n",
       "      <th></th>\n",
       "      <th>acousticness</th>\n",
       "      <th>danceability</th>\n",
       "      <th>duration_ms</th>\n",
       "      <th>energy</th>\n",
       "      <th>explicit</th>\n",
       "      <th>instrumentalness</th>\n",
       "      <th>liveness</th>\n",
       "      <th>loudness</th>\n",
       "      <th>popularity</th>\n",
       "      <th>speechiness</th>\n",
       "      <th>...</th>\n",
       "      <th>loudness_yr</th>\n",
       "      <th>speechiness_yr</th>\n",
       "      <th>tempo_yr</th>\n",
       "      <th>valence_yr</th>\n",
       "      <th>key_0_yr</th>\n",
       "      <th>key_1_yr</th>\n",
       "      <th>key_2_yr</th>\n",
       "      <th>key_3_yr</th>\n",
       "      <th>key_4_yr</th>\n",
       "      <th>key_5_yr</th>\n",
       "    </tr>\n",
       "  </thead>\n",
       "  <tbody>\n",
       "    <tr>\n",
       "      <th>7283</th>\n",
       "      <td>0.000146</td>\n",
       "      <td>0.475</td>\n",
       "      <td>234867</td>\n",
       "      <td>0.439</td>\n",
       "      <td>0</td>\n",
       "      <td>0.000277</td>\n",
       "      <td>0.2230</td>\n",
       "      <td>-15.039</td>\n",
       "      <td>69</td>\n",
       "      <td>0.0427</td>\n",
       "      <td>...</td>\n",
       "      <td>-11.849538</td>\n",
       "      <td>0.074276</td>\n",
       "      <td>118.993133</td>\n",
       "      <td>0.582433</td>\n",
       "      <td>0</td>\n",
       "      <td>0</td>\n",
       "      <td>1</td>\n",
       "      <td>0</td>\n",
       "      <td>0</td>\n",
       "      <td>0</td>\n",
       "    </tr>\n",
       "    <tr>\n",
       "      <th>51924</th>\n",
       "      <td>0.013100</td>\n",
       "      <td>0.466</td>\n",
       "      <td>276973</td>\n",
       "      <td>0.763</td>\n",
       "      <td>0</td>\n",
       "      <td>0.028200</td>\n",
       "      <td>0.0929</td>\n",
       "      <td>-7.205</td>\n",
       "      <td>28</td>\n",
       "      <td>0.0299</td>\n",
       "      <td>...</td>\n",
       "      <td>-9.230797</td>\n",
       "      <td>0.082572</td>\n",
       "      <td>120.878793</td>\n",
       "      <td>0.433697</td>\n",
       "      <td>0</td>\n",
       "      <td>0</td>\n",
       "      <td>0</td>\n",
       "      <td>0</td>\n",
       "      <td>1</td>\n",
       "      <td>0</td>\n",
       "    </tr>\n",
       "    <tr>\n",
       "      <th>138867</th>\n",
       "      <td>0.895000</td>\n",
       "      <td>0.401</td>\n",
       "      <td>178893</td>\n",
       "      <td>0.248</td>\n",
       "      <td>0</td>\n",
       "      <td>0.000126</td>\n",
       "      <td>0.1300</td>\n",
       "      <td>-10.213</td>\n",
       "      <td>31</td>\n",
       "      <td>0.0302</td>\n",
       "      <td>...</td>\n",
       "      <td>-11.789685</td>\n",
       "      <td>0.053659</td>\n",
       "      <td>119.346342</td>\n",
       "      <td>0.593672</td>\n",
       "      <td>0</td>\n",
       "      <td>0</td>\n",
       "      <td>1</td>\n",
       "      <td>0</td>\n",
       "      <td>0</td>\n",
       "      <td>0</td>\n",
       "    </tr>\n",
       "    <tr>\n",
       "      <th>156962</th>\n",
       "      <td>0.995000</td>\n",
       "      <td>0.599</td>\n",
       "      <td>173987</td>\n",
       "      <td>0.136</td>\n",
       "      <td>0</td>\n",
       "      <td>0.890000</td>\n",
       "      <td>0.1140</td>\n",
       "      <td>-21.655</td>\n",
       "      <td>0</td>\n",
       "      <td>0.0644</td>\n",
       "      <td>...</td>\n",
       "      <td>-15.235276</td>\n",
       "      <td>0.261915</td>\n",
       "      <td>112.663707</td>\n",
       "      <td>0.669676</td>\n",
       "      <td>0</td>\n",
       "      <td>1</td>\n",
       "      <td>0</td>\n",
       "      <td>0</td>\n",
       "      <td>0</td>\n",
       "      <td>0</td>\n",
       "    </tr>\n",
       "    <tr>\n",
       "      <th>35047</th>\n",
       "      <td>0.396000</td>\n",
       "      <td>0.625</td>\n",
       "      <td>187333</td>\n",
       "      <td>0.578</td>\n",
       "      <td>0</td>\n",
       "      <td>0.000540</td>\n",
       "      <td>0.0320</td>\n",
       "      <td>-12.472</td>\n",
       "      <td>50</td>\n",
       "      <td>0.0315</td>\n",
       "      <td>...</td>\n",
       "      <td>-10.714379</td>\n",
       "      <td>0.058307</td>\n",
       "      <td>122.672871</td>\n",
       "      <td>0.595666</td>\n",
       "      <td>1</td>\n",
       "      <td>0</td>\n",
       "      <td>0</td>\n",
       "      <td>0</td>\n",
       "      <td>0</td>\n",
       "      <td>0</td>\n",
       "    </tr>\n",
       "  </tbody>\n",
       "</table>\n",
       "<p>5 rows × 68 columns</p>\n",
       "</div>"
      ],
      "text/plain": [
       "        acousticness  danceability  duration_ms  energy  explicit  \\\n",
       "7283        0.000146         0.475       234867   0.439         0   \n",
       "51924       0.013100         0.466       276973   0.763         0   \n",
       "138867      0.895000         0.401       178893   0.248         0   \n",
       "156962      0.995000         0.599       173987   0.136         0   \n",
       "35047       0.396000         0.625       187333   0.578         0   \n",
       "\n",
       "        instrumentalness  liveness  loudness  popularity  speechiness  ...  \\\n",
       "7283            0.000277    0.2230   -15.039          69       0.0427  ...   \n",
       "51924           0.028200    0.0929    -7.205          28       0.0299  ...   \n",
       "138867          0.000126    0.1300   -10.213          31       0.0302  ...   \n",
       "156962          0.890000    0.1140   -21.655           0       0.0644  ...   \n",
       "35047           0.000540    0.0320   -12.472          50       0.0315  ...   \n",
       "\n",
       "        loudness_yr  speechiness_yr    tempo_yr  valence_yr  key_0_yr  \\\n",
       "7283     -11.849538        0.074276  118.993133    0.582433         0   \n",
       "51924     -9.230797        0.082572  120.878793    0.433697         0   \n",
       "138867   -11.789685        0.053659  119.346342    0.593672         0   \n",
       "156962   -15.235276        0.261915  112.663707    0.669676         0   \n",
       "35047    -10.714379        0.058307  122.672871    0.595666         1   \n",
       "\n",
       "        key_1_yr  key_2_yr  key_3_yr  key_4_yr  key_5_yr  \n",
       "7283           0         1         0         0         0  \n",
       "51924          0         0         0         1         0  \n",
       "138867         0         1         0         0         0  \n",
       "156962         1         0         0         0         0  \n",
       "35047          0         0         0         0         0  \n",
       "\n",
       "[5 rows x 68 columns]"
      ]
     },
     "execution_count": 26,
     "metadata": {},
     "output_type": "execute_result"
    }
   ],
   "source": [
    "df_cut = resample(df, n_samples=10000, replace = False)\n",
    "#X_cut=pd.DataFrame(X_cut, columns = X_new.columns.tolist())\n",
    "df_cut.head()"
   ]
  },
  {
   "cell_type": "code",
   "execution_count": 27,
   "id": "collaborative-arlington",
   "metadata": {},
   "outputs": [
    {
     "data": {
      "text/plain": [
       "(10000, 25)"
      ]
     },
     "execution_count": 27,
     "metadata": {},
     "output_type": "execute_result"
    }
   ],
   "source": [
    "X2 = df_cut[df_cut.columns.difference(['popularity'])]\n",
    "y2 = df_cut['popularity']\n",
    "X_new2 = SelectKBest(f_regression, k=25).fit_transform(X2, y2)\n",
    "X_new2.shape"
   ]
  },
  {
   "cell_type": "code",
   "execution_count": 29,
   "id": "cathedral-grain",
   "metadata": {},
   "outputs": [
    {
     "name": "stdout",
     "output_type": "stream",
     "text": [
      "Coefficient of determination: 0.64\n",
      "Mean squared error: 170.50\n"
     ]
    }
   ],
   "source": [
    "poly = PolynomialFeatures(degree=3) ## Degree 3 kills my PC! I think the issue is not enough RAM. \n",
    "X_poly = poly.fit_transform(X_new)\n",
    "X_train1, X_test1, y_train1, y_test1 = train_test_split(X_poly, y, test_size=0.2)\n",
    "clf1 = LinearRegression().fit(X_train1, y_train1)\n",
    "y_pred1 = clf1.predict(X_test1)\n",
    "print('Coefficient of determination: %.2f'\n",
    "      % r2_score(y_test1, y_pred1))\n",
    "print('Mean squared error: %.2f'\n",
    "      % mean_squared_error(y_test1, y_pred1))"
   ]
  },
  {
   "cell_type": "code",
   "execution_count": 25,
   "id": "caring-poland",
   "metadata": {
    "ExecuteTime": {
     "end_time": "2021-03-17T16:31:58.570967Z",
     "start_time": "2021-03-17T16:31:57.741761Z"
    }
   },
   "outputs": [
    {
     "data": {
      "image/png": "[encoded data removed]",
      "text/plain": [
       "<Figure size 432x288 with 1 Axes>"
      ]
     },
     "metadata": {},
     "output_type": "display_data"
    },
    {
     "name": "stdout",
     "output_type": "stream",
     "text": [
      "34446 0.16646345003774024\n"
     ]
    },
    {
     "data": {
      "image/png": "[encoded data removed]",
      "text/plain": [
       "<Figure size 432x288 with 1 Axes>"
      ]
     },
     "metadata": {},
     "output_type": "display_data"
    }
   ],
   "source": [
    "from matplotlib import pyplot\n",
    "d = open(\"fpr_dtr\", \"rb\")\n",
    "d1 = open(\"tpr_dtr\", \"rb\")\n",
    "d2 = open(\"lr_pre_dtr\", \"rb\")\n",
    "d3 = open(\"lr_rec_dtr\", \"rb\")\n",
    "l = open(\"fpr_lr\", \"rb\")\n",
    "l1 = open(\"tpr_lr\", \"rb\")\n",
    "l2 = open(\"lr_pre_lr\", \"rb\")\n",
    "l3 = open(\"lr_rec_lr\", \"rb\")\n",
    "s = open(\"fpr_svm\", \"rb\")\n",
    "s1 = open(\"tpr_svm\", \"rb\")\n",
    "s2 = open(\"lr_pre_svm\", \"rb\")\n",
    "s3 = open(\"lr_rec_svm\", \"rb\")\n",
    "\n",
    "params = {'legend.fontsize': 10,\n",
    "          'legend.handlelength': 3}\n",
    "pyplot.rcParams.update(params)\n",
    "\n",
    "\n",
    "pyplot.plot([0,1], [0,1], linestyle='--', label='No Skill')\n",
    "pyplot.plot(np.load(l), np.load(l1), label='Logistic regression (AUC=0.9299)')\n",
    "pyplot.plot(np.load(s), np.load(s1), label='SVM (AUC=0.9293)')\n",
    "pyplot.plot(np.load(d), np.load(d1), label='Decision tree (AUC=0.9380')\n",
    "# axis labels\n",
    "pyplot.xlabel('False Positive Rate')\n",
    "pyplot.ylabel('True Positive Rate')\n",
    "pyplot.legend()\n",
    "# show the plot\n",
    "\n",
    "pyplot.savefig(\"ROC_OG.png\")\n",
    "pyplot.show()\n",
    "\n",
    "no_skill = len(y_test2[y_test2==1]) / len(y_test2)\n",
    "print(len(y_test2), no_skill)\n",
    "pyplot.plot([0,1], [no_skill,no_skill], linestyle='--', label='No Skill')\n",
    "pyplot.plot(np.load(l3), np.load(l2), label='Logistic regression (AUC=0.792)')\n",
    "pyplot.plot(np.load(s3), np.load(s2), label='SVM (AUC=0.801)')\n",
    "pyplot.plot(np.load(d3), np.load(d2), label='Decision tree (AUC=0.824)')\n",
    "# axis labels\n",
    "pyplot.xlabel('Recall')\n",
    "pyplot.ylabel('Precision')\n",
    "pyplot.legend()\n",
    "# show the plot\n",
    "\n",
    "pyplot.savefig(\"PVR_OG.png\")\n",
    "pyplot.show()"
   ]
  }
 ],
 "metadata": {
  "kernelspec": {
   "display_name": "ML_Spotify",
   "language": "python",
   "name": "ml_spotify"
  },
  "language_info": {
   "codemirror_mode": {
    "name": "ipython",
    "version": 3
   },
   "file_extension": ".py",
   "mimetype": "text/x-python",
   "name": "python",
   "nbconvert_exporter": "python",
   "pygments_lexer": "ipython3",
   "version": "3.9.2"
  },
  "toc": {
   "base_numbering": 1,
   "nav_menu": {},
   "number_sections": true,
   "sideBar": true,
   "skip_h1_title": false,
   "title_cell": "Table of Contents",
   "title_sidebar": "Contents",
   "toc_cell": false,
   "toc_position": {},
   "toc_section_display": true,
   "toc_window_display": false
  },
  "varInspector": {
   "cols": {
    "lenName": 16,
    "lenType": 16,
    "lenVar": 40
   },
   "kernels_config": {
    "python": {
     "delete_cmd_postfix": "",
     "delete_cmd_prefix": "del ",
     "library": "var_list.py",
     "varRefreshCmd": "print(var_dic_list())"
    },
    "r": {
     "delete_cmd_postfix": ") ",
     "delete_cmd_prefix": "rm(",
     "library": "var_list.r",
     "varRefreshCmd": "cat(var_dic_list()) "
    }
   },
   "types_to_exclude": [
    "module",
    "function",
    "builtin_function_or_method",
    "instance",
    "_Feature"
   ],
   "window_display": false
  }
 },
 "nbformat": 4,
 "nbformat_minor": 5
}
