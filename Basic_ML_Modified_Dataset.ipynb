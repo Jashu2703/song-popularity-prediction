{
 "cells": [
  {
   "cell_type": "code",
   "execution_count": 39,
   "id": "attempted-signal",
   "metadata": {},
   "outputs": [],
   "source": [
    "import pandas as pd\n",
    "from matplotlib import pyplot as plt\n",
    "import seaborn as sns\n",
    "sns.set_theme()\n",
    "from sklearn.model_selection import train_test_split\n",
    "from sklearn.preprocessing import PolynomialFeatures\n",
    "from sklearn.linear_model import LogisticRegression, LinearRegression\n",
    "from sklearn.metrics import accuracy_score, r2_score, mean_squared_error\n",
    "from sklearn.feature_selection import SelectKBest, VarianceThreshold\n",
    "from sklearn.feature_selection import chi2, mutual_info_classif, f_regression, f_classif"
   ]
  },
  {
   "cell_type": "markdown",
   "id": "fundamental-pocket",
   "metadata": {},
   "source": [
    "### Loading the modified dataset"
   ]
  },
  {
   "cell_type": "code",
   "execution_count": 40,
   "id": "occasional-apollo",
   "metadata": {},
   "outputs": [],
   "source": [
    "df = pd.read_csv('data_merged.csv')\n",
    "list(df.columns)\n",
    "del df['mode']\n",
    "del df['key_6_yr']\n",
    "del df['popularity_yr']\n",
    "del df['popularity_ar']"
   ]
  },
  {
   "cell_type": "code",
   "execution_count": 41,
   "id": "wicked-entrepreneur",
   "metadata": {},
   "outputs": [
    {
     "data": {
      "text/html": [
       "<div>\n",
       "<style scoped>\n",
       "    .dataframe tbody tr th:only-of-type {\n",
       "        vertical-align: middle;\n",
       "    }\n",
       "\n",
       "    .dataframe tbody tr th {\n",
       "        vertical-align: top;\n",
       "    }\n",
       "\n",
       "    .dataframe thead th {\n",
       "        text-align: right;\n",
       "    }\n",
       "</style>\n",
       "<table border=\"1\" class=\"dataframe\">\n",
       "  <thead>\n",
       "    <tr style=\"text-align: right;\">\n",
       "      <th></th>\n",
       "      <th>acousticness</th>\n",
       "      <th>danceability</th>\n",
       "      <th>duration_ms</th>\n",
       "      <th>energy</th>\n",
       "      <th>explicit</th>\n",
       "      <th>instrumentalness</th>\n",
       "      <th>liveness</th>\n",
       "      <th>loudness</th>\n",
       "      <th>popularity</th>\n",
       "      <th>speechiness</th>\n",
       "      <th>...</th>\n",
       "      <th>loudness_yr</th>\n",
       "      <th>speechiness_yr</th>\n",
       "      <th>tempo_yr</th>\n",
       "      <th>valence_yr</th>\n",
       "      <th>key_0_yr</th>\n",
       "      <th>key_1_yr</th>\n",
       "      <th>key_2_yr</th>\n",
       "      <th>key_3_yr</th>\n",
       "      <th>key_4_yr</th>\n",
       "      <th>key_5_yr</th>\n",
       "    </tr>\n",
       "  </thead>\n",
       "  <tbody>\n",
       "    <tr>\n",
       "      <th>0</th>\n",
       "      <td>0.0131</td>\n",
       "      <td>0.2560</td>\n",
       "      <td>182347</td>\n",
       "      <td>0.895</td>\n",
       "      <td>0</td>\n",
       "      <td>0.000106</td>\n",
       "      <td>0.0821</td>\n",
       "      <td>-4.860</td>\n",
       "      <td>29</td>\n",
       "      <td>0.0707</td>\n",
       "      <td>...</td>\n",
       "      <td>-11.095111</td>\n",
       "      <td>0.064961</td>\n",
       "      <td>120.209319</td>\n",
       "      <td>0.583424</td>\n",
       "      <td>0</td>\n",
       "      <td>0</td>\n",
       "      <td>1</td>\n",
       "      <td>0</td>\n",
       "      <td>0</td>\n",
       "      <td>0</td>\n",
       "    </tr>\n",
       "    <tr>\n",
       "      <th>1</th>\n",
       "      <td>0.9800</td>\n",
       "      <td>0.2770</td>\n",
       "      <td>206972</td>\n",
       "      <td>0.145</td>\n",
       "      <td>0</td>\n",
       "      <td>0.879000</td>\n",
       "      <td>0.1110</td>\n",
       "      <td>-19.898</td>\n",
       "      <td>0</td>\n",
       "      <td>0.0845</td>\n",
       "      <td>...</td>\n",
       "      <td>-15.414304</td>\n",
       "      <td>0.092591</td>\n",
       "      <td>110.008113</td>\n",
       "      <td>0.432251</td>\n",
       "      <td>1</td>\n",
       "      <td>0</td>\n",
       "      <td>0</td>\n",
       "      <td>0</td>\n",
       "      <td>0</td>\n",
       "      <td>0</td>\n",
       "    </tr>\n",
       "    <tr>\n",
       "      <th>2</th>\n",
       "      <td>0.7950</td>\n",
       "      <td>0.6850</td>\n",
       "      <td>314667</td>\n",
       "      <td>0.483</td>\n",
       "      <td>0</td>\n",
       "      <td>0.878000</td>\n",
       "      <td>0.1130</td>\n",
       "      <td>-10.202</td>\n",
       "      <td>1</td>\n",
       "      <td>0.0337</td>\n",
       "      <td>...</td>\n",
       "      <td>-15.342991</td>\n",
       "      <td>0.103243</td>\n",
       "      <td>108.561912</td>\n",
       "      <td>0.447291</td>\n",
       "      <td>0</td>\n",
       "      <td>0</td>\n",
       "      <td>0</td>\n",
       "      <td>1</td>\n",
       "      <td>0</td>\n",
       "      <td>0</td>\n",
       "    </tr>\n",
       "    <tr>\n",
       "      <th>3</th>\n",
       "      <td>0.6560</td>\n",
       "      <td>0.7880</td>\n",
       "      <td>179747</td>\n",
       "      <td>0.808</td>\n",
       "      <td>0</td>\n",
       "      <td>0.000000</td>\n",
       "      <td>0.1540</td>\n",
       "      <td>-6.590</td>\n",
       "      <td>0</td>\n",
       "      <td>0.0395</td>\n",
       "      <td>...</td>\n",
       "      <td>-15.342991</td>\n",
       "      <td>0.103243</td>\n",
       "      <td>108.561912</td>\n",
       "      <td>0.447291</td>\n",
       "      <td>0</td>\n",
       "      <td>0</td>\n",
       "      <td>0</td>\n",
       "      <td>1</td>\n",
       "      <td>0</td>\n",
       "      <td>0</td>\n",
       "    </tr>\n",
       "    <tr>\n",
       "      <th>4</th>\n",
       "      <td>0.3020</td>\n",
       "      <td>0.0753</td>\n",
       "      <td>498560</td>\n",
       "      <td>0.150</td>\n",
       "      <td>0</td>\n",
       "      <td>0.884000</td>\n",
       "      <td>0.1210</td>\n",
       "      <td>-16.705</td>\n",
       "      <td>0</td>\n",
       "      <td>0.0371</td>\n",
       "      <td>...</td>\n",
       "      <td>-15.724956</td>\n",
       "      <td>0.107351</td>\n",
       "      <td>109.569882</td>\n",
       "      <td>0.443625</td>\n",
       "      <td>1</td>\n",
       "      <td>0</td>\n",
       "      <td>0</td>\n",
       "      <td>0</td>\n",
       "      <td>0</td>\n",
       "      <td>0</td>\n",
       "    </tr>\n",
       "  </tbody>\n",
       "</table>\n",
       "<p>5 rows × 68 columns</p>\n",
       "</div>"
      ],
      "text/plain": [
       "   acousticness  danceability  duration_ms  energy  explicit  \\\n",
       "0        0.0131        0.2560       182347   0.895         0   \n",
       "1        0.9800        0.2770       206972   0.145         0   \n",
       "2        0.7950        0.6850       314667   0.483         0   \n",
       "3        0.6560        0.7880       179747   0.808         0   \n",
       "4        0.3020        0.0753       498560   0.150         0   \n",
       "\n",
       "   instrumentalness  liveness  loudness  popularity  speechiness  ...  \\\n",
       "0          0.000106    0.0821    -4.860          29       0.0707  ...   \n",
       "1          0.879000    0.1110   -19.898           0       0.0845  ...   \n",
       "2          0.878000    0.1130   -10.202           1       0.0337  ...   \n",
       "3          0.000000    0.1540    -6.590           0       0.0395  ...   \n",
       "4          0.884000    0.1210   -16.705           0       0.0371  ...   \n",
       "\n",
       "   loudness_yr  speechiness_yr    tempo_yr  valence_yr  key_0_yr  key_1_yr  \\\n",
       "0   -11.095111        0.064961  120.209319    0.583424         0         0   \n",
       "1   -15.414304        0.092591  110.008113    0.432251         1         0   \n",
       "2   -15.342991        0.103243  108.561912    0.447291         0         0   \n",
       "3   -15.342991        0.103243  108.561912    0.447291         0         0   \n",
       "4   -15.724956        0.107351  109.569882    0.443625         1         0   \n",
       "\n",
       "   key_2_yr  key_3_yr  key_4_yr  key_5_yr  \n",
       "0         1         0         0         0  \n",
       "1         0         0         0         0  \n",
       "2         0         1         0         0  \n",
       "3         0         1         0         0  \n",
       "4         0         0         0         0  \n",
       "\n",
       "[5 rows x 68 columns]"
      ]
     },
     "execution_count": 41,
     "metadata": {},
     "output_type": "execute_result"
    }
   ],
   "source": [
    "df.head()"
   ]
  },
  {
   "cell_type": "markdown",
   "id": "bridal-prison",
   "metadata": {},
   "source": [
    "### Linear Regression"
   ]
  },
  {
   "cell_type": "code",
   "execution_count": 64,
   "id": "spatial-andrew",
   "metadata": {},
   "outputs": [
    {
     "data": {
      "text/plain": [
       "(172230, 25)"
      ]
     },
     "execution_count": 64,
     "metadata": {},
     "output_type": "execute_result"
    }
   ],
   "source": [
    "X = df[df.columns.difference(['popularity'])]\n",
    "y = df['popularity']\n",
    "X_new = SelectKBest(f_regression, k=25).fit_transform(X, y)\n",
    "X_new.shape"
   ]
  },
  {
   "cell_type": "code",
   "execution_count": 65,
   "id": "atlantic-roommate",
   "metadata": {},
   "outputs": [
    {
     "name": "stdout",
     "output_type": "stream",
     "text": [
      "Coefficient of determination: 0.52\n",
      "Mean squared error: 232.10\n"
     ]
    }
   ],
   "source": [
    "X_train, X_test, y_train, y_test = train_test_split(X_new, y, test_size=0.2)\n",
    "clf = LinearRegression().fit(X_train, y_train)\n",
    "y_pred = clf.predict(X_test)\n",
    "print('Coefficient of determination: %.2f'\n",
    "      % r2_score(y_test, y_pred))\n",
    "print('Mean squared error: %.2f'\n",
    "      % mean_squared_error(y_test, y_pred))"
   ]
  },
  {
   "cell_type": "markdown",
   "id": "constant-council",
   "metadata": {},
   "source": [
    "### Polynomial Regression"
   ]
  },
  {
   "cell_type": "code",
   "execution_count": 66,
   "id": "imperial-stockholm",
   "metadata": {},
   "outputs": [
    {
     "name": "stdout",
     "output_type": "stream",
     "text": [
      "Coefficient of determination: 0.61\n",
      "Mean squared error: 184.56\n"
     ]
    }
   ],
   "source": [
    "poly = PolynomialFeatures(degree=2) ## Degree 3 kills my PC! I think the issue is not enough RAM. \n",
    "X_poly = poly.fit_transform(X_new)\n",
    "X_train1, X_test1, y_train1, y_test1 = train_test_split(X_poly, y, test_size=0.2)\n",
    "clf1 = LinearRegression().fit(X_train1, y_train1)\n",
    "y_pred1 = clf1.predict(X_test1)\n",
    "print('Coefficient of determination: %.2f'\n",
    "      % r2_score(y_test1, y_pred1))\n",
    "print('Mean squared error: %.2f'\n",
    "      % mean_squared_error(y_test1, y_pred1))"
   ]
  },
  {
   "cell_type": "markdown",
   "id": "successful-stanley",
   "metadata": {},
   "source": [
    "With all features polynomial regression for degree = 2 gives an r2_score of 0.64"
   ]
  },
  {
   "cell_type": "markdown",
   "id": "noble-birthday",
   "metadata": {},
   "source": [
    "###  Logistic Regression\n",
    "\n",
    "#### With 3 categories"
   ]
  },
  {
   "cell_type": "code",
   "execution_count": 45,
   "id": "oriented-microwave",
   "metadata": {},
   "outputs": [
    {
     "data": {
      "text/plain": [
       "(172230, 27)"
      ]
     },
     "execution_count": 45,
     "metadata": {},
     "output_type": "execute_result"
    }
   ],
   "source": [
    "X1 = df[df.columns.difference(['popularity'])]\n",
    "y1 = pd.cut(x=df[\"popularity\"], bins=[-1,20,50,100], labels=[0,1,2]) ## Threshold can be either 50 (median) or 26 (mean)\n",
    "X_new1 = SelectKBest(f_classif, k=27).fit_transform(X1, y1)\n",
    "X_new1.shape"
   ]
  },
  {
   "cell_type": "markdown",
   "id": "breathing-transcript",
   "metadata": {},
   "source": [
    "Here, a maximum accuracy score of 0.641 is achieved upon selecting 27 features, after which the score more or less plateaus and the optimization function fails to converge within a small number of iterations. \n",
    "\n",
    "Increasing the max number of iterations allows it to converge but the accuracy score does not see any improvement. "
   ]
  },
  {
   "cell_type": "code",
   "execution_count": 46,
   "id": "operating-weight",
   "metadata": {
    "scrolled": true
   },
   "outputs": [
    {
     "data": {
      "text/plain": [
       "0.6412065261568832"
      ]
     },
     "execution_count": 46,
     "metadata": {},
     "output_type": "execute_result"
    }
   ],
   "source": [
    "X_train2, X_test2, y_train2, y_test2 = train_test_split(X_new1, y1, test_size=0.20)\n",
    "clf2 = LogisticRegression(random_state=42).fit(X_train2, y_train2)\n",
    "y_pred2 = clf2.predict(X_test2)\n",
    "accuracy_score(y_test2, y_pred2)"
   ]
  },
  {
   "cell_type": "markdown",
   "id": "otherwise-conviction",
   "metadata": {},
   "source": [
    "Why does the accuracy score give different values everytime I run it? I have fixed the random_state. "
   ]
  },
  {
   "cell_type": "markdown",
   "id": "auburn-iceland",
   "metadata": {},
   "source": [
    "#### With 2 categories"
   ]
  },
  {
   "cell_type": "code",
   "execution_count": 67,
   "id": "sorted-serum",
   "metadata": {},
   "outputs": [
    {
     "data": {
      "text/plain": [
       "(172230, 27)"
      ]
     },
     "execution_count": 67,
     "metadata": {},
     "output_type": "execute_result"
    }
   ],
   "source": [
    "y1 = pd.cut(x=df[\"popularity\"], bins=[-1,50,100], labels=[0,1]) ## Threshold can be either 50 (median) or 26 (mean)\n",
    "X_new1 = SelectKBest(f_classif, k=27).fit_transform(X1, y1)\n",
    "X_new1.shape"
   ]
  },
  {
   "cell_type": "code",
   "execution_count": 68,
   "id": "statutory-brunei",
   "metadata": {},
   "outputs": [
    {
     "data": {
      "text/plain": [
       "0.8426812982639493"
      ]
     },
     "execution_count": 68,
     "metadata": {},
     "output_type": "execute_result"
    }
   ],
   "source": [
    "X_train2, X_test2, y_train2, y_test2 = train_test_split(X_new1, y1, test_size=0.2)\n",
    "clf2 = LogisticRegression(random_state=42).fit(X_train2, y_train2)\n",
    "y_pred2 = clf2.predict(X_test2)\n",
    "accuracy_score(y_test2, y_pred2)"
   ]
  },
  {
   "cell_type": "markdown",
   "id": "dependent-specification",
   "metadata": {},
   "source": [
    "Convergence sometimes happens, sometimes not. "
   ]
  },
  {
   "cell_type": "code",
   "execution_count": null,
   "id": "located-canadian",
   "metadata": {},
   "outputs": [],
   "source": []
  }
 ],
 "metadata": {
  "kernelspec": {
   "display_name": "Python 3",
   "language": "python",
   "name": "python3"
  },
  "language_info": {
   "codemirror_mode": {
    "name": "ipython",
    "version": 3
   },
   "file_extension": ".py",
   "mimetype": "text/x-python",
   "name": "python",
   "nbconvert_exporter": "python",
   "pygments_lexer": "ipython3",
   "version": "3.8.5"
  }
 },
 "nbformat": 4,
 "nbformat_minor": 5
}
