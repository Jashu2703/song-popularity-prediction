{
 "cells": [
  {
   "cell_type": "code",
   "execution_count": 34,
   "metadata": {},
   "outputs": [],
   "source": [
    "from sklearn.feature_selection import SelectFromModel\n",
    "import pandas as pd\n",
    "from sklearn import preprocessing\n",
    "from sklearn.linear_model import Lasso, LinearRegression\n",
    "from sklearn.model_selection import train_test_split, cross_val_score\n",
    "from sklearn.metrics import mean_squared_error, r2_score"
   ]
  },
  {
   "cell_type": "code",
   "execution_count": 2,
   "metadata": {},
   "outputs": [],
   "source": [
    "df = pd.read_csv('dataset/data_merged.csv')"
   ]
  },
  {
   "cell_type": "code",
   "execution_count": 3,
   "metadata": {},
   "outputs": [
    {
     "data": {
      "text/html": [
       "<div>\n",
       "<style scoped>\n",
       "    .dataframe tbody tr th:only-of-type {\n",
       "        vertical-align: middle;\n",
       "    }\n",
       "\n",
       "    .dataframe tbody tr th {\n",
       "        vertical-align: top;\n",
       "    }\n",
       "\n",
       "    .dataframe thead th {\n",
       "        text-align: right;\n",
       "    }\n",
       "</style>\n",
       "<table border=\"1\" class=\"dataframe\">\n",
       "  <thead>\n",
       "    <tr style=\"text-align: right;\">\n",
       "      <th></th>\n",
       "      <th>acousticness</th>\n",
       "      <th>danceability</th>\n",
       "      <th>duration_ms</th>\n",
       "      <th>energy</th>\n",
       "      <th>explicit</th>\n",
       "      <th>instrumentalness</th>\n",
       "      <th>liveness</th>\n",
       "      <th>loudness</th>\n",
       "      <th>popularity</th>\n",
       "      <th>speechiness</th>\n",
       "      <th>...</th>\n",
       "      <th>valence_yr</th>\n",
       "      <th>popularity_yr</th>\n",
       "      <th>mode</th>\n",
       "      <th>key_0_yr</th>\n",
       "      <th>key_1_yr</th>\n",
       "      <th>key_2_yr</th>\n",
       "      <th>key_3_yr</th>\n",
       "      <th>key_4_yr</th>\n",
       "      <th>key_5_yr</th>\n",
       "      <th>key_6_yr</th>\n",
       "    </tr>\n",
       "  </thead>\n",
       "  <tbody>\n",
       "    <tr>\n",
       "      <th>0</th>\n",
       "      <td>0.0131</td>\n",
       "      <td>0.2560</td>\n",
       "      <td>182347</td>\n",
       "      <td>0.895</td>\n",
       "      <td>0</td>\n",
       "      <td>0.000106</td>\n",
       "      <td>0.0821</td>\n",
       "      <td>-4.860</td>\n",
       "      <td>29</td>\n",
       "      <td>0.0707</td>\n",
       "      <td>...</td>\n",
       "      <td>0.583424</td>\n",
       "      <td>35.272231</td>\n",
       "      <td>1</td>\n",
       "      <td>0</td>\n",
       "      <td>0</td>\n",
       "      <td>1</td>\n",
       "      <td>0</td>\n",
       "      <td>0</td>\n",
       "      <td>0</td>\n",
       "      <td>0</td>\n",
       "    </tr>\n",
       "    <tr>\n",
       "      <th>1</th>\n",
       "      <td>0.9800</td>\n",
       "      <td>0.2770</td>\n",
       "      <td>206972</td>\n",
       "      <td>0.145</td>\n",
       "      <td>0</td>\n",
       "      <td>0.879000</td>\n",
       "      <td>0.1110</td>\n",
       "      <td>-19.898</td>\n",
       "      <td>0</td>\n",
       "      <td>0.0845</td>\n",
       "      <td>...</td>\n",
       "      <td>0.432251</td>\n",
       "      <td>3.672500</td>\n",
       "      <td>1</td>\n",
       "      <td>1</td>\n",
       "      <td>0</td>\n",
       "      <td>0</td>\n",
       "      <td>0</td>\n",
       "      <td>0</td>\n",
       "      <td>0</td>\n",
       "      <td>0</td>\n",
       "    </tr>\n",
       "    <tr>\n",
       "      <th>2</th>\n",
       "      <td>0.7950</td>\n",
       "      <td>0.6850</td>\n",
       "      <td>314667</td>\n",
       "      <td>0.483</td>\n",
       "      <td>0</td>\n",
       "      <td>0.878000</td>\n",
       "      <td>0.1130</td>\n",
       "      <td>-10.202</td>\n",
       "      <td>1</td>\n",
       "      <td>0.0337</td>\n",
       "      <td>...</td>\n",
       "      <td>0.447291</td>\n",
       "      <td>7.707000</td>\n",
       "      <td>1</td>\n",
       "      <td>0</td>\n",
       "      <td>0</td>\n",
       "      <td>0</td>\n",
       "      <td>1</td>\n",
       "      <td>0</td>\n",
       "      <td>0</td>\n",
       "      <td>0</td>\n",
       "    </tr>\n",
       "    <tr>\n",
       "      <th>3</th>\n",
       "      <td>0.6560</td>\n",
       "      <td>0.7880</td>\n",
       "      <td>179747</td>\n",
       "      <td>0.808</td>\n",
       "      <td>0</td>\n",
       "      <td>0.000000</td>\n",
       "      <td>0.1540</td>\n",
       "      <td>-6.590</td>\n",
       "      <td>0</td>\n",
       "      <td>0.0395</td>\n",
       "      <td>...</td>\n",
       "      <td>0.447291</td>\n",
       "      <td>7.707000</td>\n",
       "      <td>1</td>\n",
       "      <td>0</td>\n",
       "      <td>0</td>\n",
       "      <td>0</td>\n",
       "      <td>1</td>\n",
       "      <td>0</td>\n",
       "      <td>0</td>\n",
       "      <td>0</td>\n",
       "    </tr>\n",
       "    <tr>\n",
       "      <th>4</th>\n",
       "      <td>0.3020</td>\n",
       "      <td>0.0753</td>\n",
       "      <td>498560</td>\n",
       "      <td>0.150</td>\n",
       "      <td>0</td>\n",
       "      <td>0.884000</td>\n",
       "      <td>0.1210</td>\n",
       "      <td>-16.705</td>\n",
       "      <td>0</td>\n",
       "      <td>0.0371</td>\n",
       "      <td>...</td>\n",
       "      <td>0.443625</td>\n",
       "      <td>3.419500</td>\n",
       "      <td>1</td>\n",
       "      <td>1</td>\n",
       "      <td>0</td>\n",
       "      <td>0</td>\n",
       "      <td>0</td>\n",
       "      <td>0</td>\n",
       "      <td>0</td>\n",
       "      <td>0</td>\n",
       "    </tr>\n",
       "  </tbody>\n",
       "</table>\n",
       "<p>5 rows × 72 columns</p>\n",
       "</div>"
      ],
      "text/plain": [
       "   acousticness  danceability  duration_ms  energy  explicit  \\\n",
       "0        0.0131        0.2560       182347   0.895         0   \n",
       "1        0.9800        0.2770       206972   0.145         0   \n",
       "2        0.7950        0.6850       314667   0.483         0   \n",
       "3        0.6560        0.7880       179747   0.808         0   \n",
       "4        0.3020        0.0753       498560   0.150         0   \n",
       "\n",
       "   instrumentalness  liveness  loudness  popularity  speechiness  ...  \\\n",
       "0          0.000106    0.0821    -4.860          29       0.0707  ...   \n",
       "1          0.879000    0.1110   -19.898           0       0.0845  ...   \n",
       "2          0.878000    0.1130   -10.202           1       0.0337  ...   \n",
       "3          0.000000    0.1540    -6.590           0       0.0395  ...   \n",
       "4          0.884000    0.1210   -16.705           0       0.0371  ...   \n",
       "\n",
       "   valence_yr  popularity_yr  mode  key_0_yr  key_1_yr  key_2_yr  key_3_yr  \\\n",
       "0    0.583424      35.272231     1         0         0         1         0   \n",
       "1    0.432251       3.672500     1         1         0         0         0   \n",
       "2    0.447291       7.707000     1         0         0         0         1   \n",
       "3    0.447291       7.707000     1         0         0         0         1   \n",
       "4    0.443625       3.419500     1         1         0         0         0   \n",
       "\n",
       "   key_4_yr  key_5_yr  key_6_yr  \n",
       "0         0         0         0  \n",
       "1         0         0         0  \n",
       "2         0         0         0  \n",
       "3         0         0         0  \n",
       "4         0         0         0  \n",
       "\n",
       "[5 rows x 72 columns]"
      ]
     },
     "execution_count": 3,
     "metadata": {},
     "output_type": "execute_result"
    }
   ],
   "source": [
    "df.head()"
   ]
  },
  {
   "cell_type": "code",
   "execution_count": 8,
   "metadata": {},
   "outputs": [],
   "source": [
    "scaler = preprocessing.StandardScaler().fit(df.drop(['popularity'], axis=1))\n",
    "columns = df.drop(['popularity'], axis=1).columns\n",
    "X = pd.DataFrame(scaler.transform(df.drop(['popularity'], axis=1)), columns=columns)\n",
    "y = df['popularity']"
   ]
  },
  {
   "cell_type": "code",
   "execution_count": 9,
   "metadata": {},
   "outputs": [
    {
     "data": {
      "text/html": [
       "<div>\n",
       "<style scoped>\n",
       "    .dataframe tbody tr th:only-of-type {\n",
       "        vertical-align: middle;\n",
       "    }\n",
       "\n",
       "    .dataframe tbody tr th {\n",
       "        vertical-align: top;\n",
       "    }\n",
       "\n",
       "    .dataframe thead th {\n",
       "        text-align: right;\n",
       "    }\n",
       "</style>\n",
       "<table border=\"1\" class=\"dataframe\">\n",
       "  <thead>\n",
       "    <tr style=\"text-align: right;\">\n",
       "      <th></th>\n",
       "      <th>acousticness</th>\n",
       "      <th>danceability</th>\n",
       "      <th>duration_ms</th>\n",
       "      <th>energy</th>\n",
       "      <th>explicit</th>\n",
       "      <th>instrumentalness</th>\n",
       "      <th>liveness</th>\n",
       "      <th>loudness</th>\n",
       "      <th>speechiness</th>\n",
       "      <th>tempo</th>\n",
       "      <th>...</th>\n",
       "      <th>valence_yr</th>\n",
       "      <th>popularity_yr</th>\n",
       "      <th>mode</th>\n",
       "      <th>key_0_yr</th>\n",
       "      <th>key_1_yr</th>\n",
       "      <th>key_2_yr</th>\n",
       "      <th>key_3_yr</th>\n",
       "      <th>key_4_yr</th>\n",
       "      <th>key_5_yr</th>\n",
       "      <th>key_6_yr</th>\n",
       "    </tr>\n",
       "  </thead>\n",
       "  <tbody>\n",
       "    <tr>\n",
       "      <th>0</th>\n",
       "      <td>-1.288412</td>\n",
       "      <td>-1.593592</td>\n",
       "      <td>-0.341936</td>\n",
       "      <td>1.521922</td>\n",
       "      <td>-0.270019</td>\n",
       "      <td>-0.585218</td>\n",
       "      <td>-0.715682</td>\n",
       "      <td>1.215760</td>\n",
       "      <td>-0.192274</td>\n",
       "      <td>2.455180</td>\n",
       "      <td>...</td>\n",
       "      <td>1.045259</td>\n",
       "      <td>0.628191</td>\n",
       "      <td>0.0</td>\n",
       "      <td>-0.758339</td>\n",
       "      <td>-0.250076</td>\n",
       "      <td>3.062932</td>\n",
       "      <td>-0.234826</td>\n",
       "      <td>-0.700788</td>\n",
       "      <td>-0.318773</td>\n",
       "      <td>-0.076689</td>\n",
       "    </tr>\n",
       "    <tr>\n",
       "      <th>1</th>\n",
       "      <td>1.260133</td>\n",
       "      <td>-1.474178</td>\n",
       "      <td>-0.174619</td>\n",
       "      <td>-1.235111</td>\n",
       "      <td>-0.270019</td>\n",
       "      <td>2.054319</td>\n",
       "      <td>-0.555713</td>\n",
       "      <td>-1.427082</td>\n",
       "      <td>-0.116886</td>\n",
       "      <td>-1.363247</td>\n",
       "      <td>...</td>\n",
       "      <td>-1.671851</td>\n",
       "      <td>-1.448124</td>\n",
       "      <td>0.0</td>\n",
       "      <td>1.318672</td>\n",
       "      <td>-0.250076</td>\n",
       "      <td>-0.326485</td>\n",
       "      <td>-0.234826</td>\n",
       "      <td>-0.700788</td>\n",
       "      <td>-0.318773</td>\n",
       "      <td>-0.076689</td>\n",
       "    </tr>\n",
       "    <tr>\n",
       "      <th>2</th>\n",
       "      <td>0.772512</td>\n",
       "      <td>0.845876</td>\n",
       "      <td>0.557122</td>\n",
       "      <td>0.007392</td>\n",
       "      <td>-0.270019</td>\n",
       "      <td>2.051316</td>\n",
       "      <td>-0.544643</td>\n",
       "      <td>0.276934</td>\n",
       "      <td>-0.394401</td>\n",
       "      <td>-0.635302</td>\n",
       "      <td>...</td>\n",
       "      <td>-1.401527</td>\n",
       "      <td>-1.183031</td>\n",
       "      <td>0.0</td>\n",
       "      <td>-0.758339</td>\n",
       "      <td>-0.250076</td>\n",
       "      <td>-0.326485</td>\n",
       "      <td>4.258467</td>\n",
       "      <td>-0.700788</td>\n",
       "      <td>-0.318773</td>\n",
       "      <td>-0.076689</td>\n",
       "    </tr>\n",
       "    <tr>\n",
       "      <th>3</th>\n",
       "      <td>0.406137</td>\n",
       "      <td>1.431576</td>\n",
       "      <td>-0.359601</td>\n",
       "      <td>1.202107</td>\n",
       "      <td>-0.270019</td>\n",
       "      <td>-0.585536</td>\n",
       "      <td>-0.317698</td>\n",
       "      <td>0.911722</td>\n",
       "      <td>-0.362717</td>\n",
       "      <td>-0.128480</td>\n",
       "      <td>...</td>\n",
       "      <td>-1.401527</td>\n",
       "      <td>-1.183031</td>\n",
       "      <td>0.0</td>\n",
       "      <td>-0.758339</td>\n",
       "      <td>-0.250076</td>\n",
       "      <td>-0.326485</td>\n",
       "      <td>4.258467</td>\n",
       "      <td>-0.700788</td>\n",
       "      <td>-0.318773</td>\n",
       "      <td>-0.076689</td>\n",
       "    </tr>\n",
       "    <tr>\n",
       "      <th>4</th>\n",
       "      <td>-0.526932</td>\n",
       "      <td>-2.621126</td>\n",
       "      <td>1.806596</td>\n",
       "      <td>-1.216731</td>\n",
       "      <td>-0.270019</td>\n",
       "      <td>2.069335</td>\n",
       "      <td>-0.500361</td>\n",
       "      <td>-0.865930</td>\n",
       "      <td>-0.375828</td>\n",
       "      <td>-1.333072</td>\n",
       "      <td>...</td>\n",
       "      <td>-1.467413</td>\n",
       "      <td>-1.464748</td>\n",
       "      <td>0.0</td>\n",
       "      <td>1.318672</td>\n",
       "      <td>-0.250076</td>\n",
       "      <td>-0.326485</td>\n",
       "      <td>-0.234826</td>\n",
       "      <td>-0.700788</td>\n",
       "      <td>-0.318773</td>\n",
       "      <td>-0.076689</td>\n",
       "    </tr>\n",
       "  </tbody>\n",
       "</table>\n",
       "<p>5 rows × 71 columns</p>\n",
       "</div>"
      ],
      "text/plain": [
       "   acousticness  danceability  duration_ms    energy  explicit  \\\n",
       "0     -1.288412     -1.593592    -0.341936  1.521922 -0.270019   \n",
       "1      1.260133     -1.474178    -0.174619 -1.235111 -0.270019   \n",
       "2      0.772512      0.845876     0.557122  0.007392 -0.270019   \n",
       "3      0.406137      1.431576    -0.359601  1.202107 -0.270019   \n",
       "4     -0.526932     -2.621126     1.806596 -1.216731 -0.270019   \n",
       "\n",
       "   instrumentalness  liveness  loudness  speechiness     tempo  ...  \\\n",
       "0         -0.585218 -0.715682  1.215760    -0.192274  2.455180  ...   \n",
       "1          2.054319 -0.555713 -1.427082    -0.116886 -1.363247  ...   \n",
       "2          2.051316 -0.544643  0.276934    -0.394401 -0.635302  ...   \n",
       "3         -0.585536 -0.317698  0.911722    -0.362717 -0.128480  ...   \n",
       "4          2.069335 -0.500361 -0.865930    -0.375828 -1.333072  ...   \n",
       "\n",
       "   valence_yr  popularity_yr  mode  key_0_yr  key_1_yr  key_2_yr  key_3_yr  \\\n",
       "0    1.045259       0.628191   0.0 -0.758339 -0.250076  3.062932 -0.234826   \n",
       "1   -1.671851      -1.448124   0.0  1.318672 -0.250076 -0.326485 -0.234826   \n",
       "2   -1.401527      -1.183031   0.0 -0.758339 -0.250076 -0.326485  4.258467   \n",
       "3   -1.401527      -1.183031   0.0 -0.758339 -0.250076 -0.326485  4.258467   \n",
       "4   -1.467413      -1.464748   0.0  1.318672 -0.250076 -0.326485 -0.234826   \n",
       "\n",
       "   key_4_yr  key_5_yr  key_6_yr  \n",
       "0 -0.700788 -0.318773 -0.076689  \n",
       "1 -0.700788 -0.318773 -0.076689  \n",
       "2 -0.700788 -0.318773 -0.076689  \n",
       "3 -0.700788 -0.318773 -0.076689  \n",
       "4 -0.700788 -0.318773 -0.076689  \n",
       "\n",
       "[5 rows x 71 columns]"
      ]
     },
     "execution_count": 9,
     "metadata": {},
     "output_type": "execute_result"
    }
   ],
   "source": [
    "X.head()"
   ]
  },
  {
   "cell_type": "code",
   "execution_count": 11,
   "metadata": {},
   "outputs": [
    {
     "data": {
      "text/plain": [
       "array([-0.        ,  0.        , -0.        ,  0.        ,  0.        ,\n",
       "       -0.        , -0.        ,  0.        , -0.        ,  0.        ,\n",
       "        0.        ,  0.        ,  0.        ,  0.        , -0.        ,\n",
       "       -0.        ,  0.        , -0.        ,  0.        , -0.        ,\n",
       "        0.        , -0.        , -0.        ,  0.        ,  0.        ,\n",
       "       -0.        , -0.        ,  0.        , -0.        ,  0.        ,\n",
       "       -0.        , -0.        ,  0.        ,  0.        ,  0.        ,\n",
       "        0.        , 17.41041716, -0.        , -0.        , -0.        ,\n",
       "       -0.        ,  0.        ,  0.        ,  0.        ,  0.        ,\n",
       "       -0.        ,  0.        ,  0.        ,  0.        ,  0.        ,\n",
       "       -0.        , -0.        , -0.        ,  0.        ,  0.        ,\n",
       "        0.        , -0.        ,  0.        ,  0.        , -0.        ,\n",
       "        0.        ,  0.        ,  1.94200037,  0.        , -0.        ,\n",
       "        0.        ,  0.        , -0.        ,  0.        ,  0.        ,\n",
       "       -0.        ])"
      ]
     },
     "execution_count": 11,
     "metadata": {},
     "output_type": "execute_result"
    }
   ],
   "source": [
    "selector = SelectFromModel(estimator=Lasso()).fit(X, y)\n",
    "selector.estimator_.coef_"
   ]
  },
  {
   "cell_type": "code",
   "execution_count": 12,
   "metadata": {},
   "outputs": [
    {
     "data": {
      "text/plain": [
       "array([[ 0.51803935,  0.62819112],\n",
       "       [-1.20659199, -1.4481245 ],\n",
       "       [-1.01175205, -1.18303061],\n",
       "       ...,\n",
       "       [ 0.01543759, -0.42579316],\n",
       "       [ 0.04263247,  0.53954012],\n",
       "       [ 0.60489253,  0.53954012]])"
      ]
     },
     "execution_count": 12,
     "metadata": {},
     "output_type": "execute_result"
    }
   ],
   "source": [
    "selector.transform(X)"
   ]
  },
  {
   "cell_type": "code",
   "execution_count": 16,
   "metadata": {},
   "outputs": [],
   "source": [
    "X_train, X_test, y_train, y_test = train_test_split(X, y, test_size=0.20, random_state=42)"
   ]
  },
  {
   "cell_type": "code",
   "execution_count": 21,
   "metadata": {},
   "outputs": [
    {
     "data": {
      "text/plain": [
       "array([0.83217757, 0.83074118, 0.82904008, 0.82741932, 0.83451041])"
      ]
     },
     "execution_count": 21,
     "metadata": {},
     "output_type": "execute_result"
    }
   ],
   "source": [
    "regf = LinearRegression()\n",
    "scores = cross_val_score(regf, X_train, y_train, cv=5)\n",
    "scores"
   ]
  },
  {
   "cell_type": "code",
   "execution_count": 28,
   "metadata": {},
   "outputs": [
    {
     "data": {
      "text/plain": [
       "numpy.ndarray"
      ]
     },
     "execution_count": 28,
     "metadata": {},
     "output_type": "execute_result"
    }
   ],
   "source": [
    "regf.fit(X_train,y_train)\n",
    "y_pred = regf.predict(X_test)\n",
    "type(y_pred)"
   ]
  },
  {
   "cell_type": "code",
   "execution_count": 33,
   "metadata": {},
   "outputs": [
    {
     "data": {
      "text/plain": [
       "81.21832522490942"
      ]
     },
     "execution_count": 33,
     "metadata": {},
     "output_type": "execute_result"
    }
   ],
   "source": [
    "mean_squared_error(y_test, y_pred)"
   ]
  },
  {
   "cell_type": "code",
   "execution_count": 35,
   "metadata": {},
   "outputs": [
    {
     "data": {
      "text/plain": [
       "0.8308637215164697"
      ]
     },
     "execution_count": 35,
     "metadata": {},
     "output_type": "execute_result"
    }
   ],
   "source": [
    "r2_score(y_test, y_pred)"
   ]
  },
  {
   "cell_type": "code",
   "execution_count": null,
   "metadata": {},
   "outputs": [],
   "source": []
  }
 ],
 "metadata": {
  "kernelspec": {
   "display_name": "Python 3",
   "language": "python",
   "name": "python3"
  },
  "language_info": {
   "codemirror_mode": {
    "name": "ipython",
    "version": 3
   },
   "file_extension": ".py",
   "mimetype": "text/x-python",
   "name": "python",
   "nbconvert_exporter": "python",
   "pygments_lexer": "ipython3",
   "version": "3.8.5"
  }
 },
 "nbformat": 4,
 "nbformat_minor": 4
}
