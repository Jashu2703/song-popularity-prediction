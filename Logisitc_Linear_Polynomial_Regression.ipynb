{
 "cells": [
  {
   "cell_type": "code",
   "execution_count": 37,
   "metadata": {},
   "outputs": [],
   "source": [
    "import pandas as pd\n",
    "from matplotlib import pyplot as plt\n",
    "import seaborn as sns\n",
    "sns.set_theme()\n",
    "from sklearn.model_selection import train_test_split\n",
    "from sklearn.preprocessing import PolynomialFeatures\n",
    "from sklearn.linear_model import LogisticRegression, LinearRegression\n",
    "from sklearn.metrics import accuracy_score, r2_score, mean_squared_error\n",
    "from sklearn.feature_selection import SelectKBest\n",
    "from sklearn.feature_selection import chi2"
   ]
  },
  {
   "cell_type": "code",
   "execution_count": 2,
   "metadata": {},
   "outputs": [],
   "source": [
    "df = pd.read_csv('data.csv')"
   ]
  },
  {
   "cell_type": "code",
   "execution_count": 3,
   "metadata": {},
   "outputs": [
    {
     "data": {
      "text/html": [
       "<div>\n",
       "<style scoped>\n",
       "    .dataframe tbody tr th:only-of-type {\n",
       "        vertical-align: middle;\n",
       "    }\n",
       "\n",
       "    .dataframe tbody tr th {\n",
       "        vertical-align: top;\n",
       "    }\n",
       "\n",
       "    .dataframe thead th {\n",
       "        text-align: right;\n",
       "    }\n",
       "</style>\n",
       "<table border=\"1\" class=\"dataframe\">\n",
       "  <thead>\n",
       "    <tr style=\"text-align: right;\">\n",
       "      <th></th>\n",
       "      <th>acousticness</th>\n",
       "      <th>artists</th>\n",
       "      <th>danceability</th>\n",
       "      <th>duration_ms</th>\n",
       "      <th>energy</th>\n",
       "      <th>explicit</th>\n",
       "      <th>id</th>\n",
       "      <th>instrumentalness</th>\n",
       "      <th>key</th>\n",
       "      <th>liveness</th>\n",
       "      <th>loudness</th>\n",
       "      <th>mode</th>\n",
       "      <th>name</th>\n",
       "      <th>popularity</th>\n",
       "      <th>release_date</th>\n",
       "      <th>speechiness</th>\n",
       "      <th>tempo</th>\n",
       "      <th>valence</th>\n",
       "      <th>year</th>\n",
       "    </tr>\n",
       "  </thead>\n",
       "  <tbody>\n",
       "    <tr>\n",
       "      <th>174384</th>\n",
       "      <td>0.00917</td>\n",
       "      <td>['DJ Combo', 'Sander-7', 'Tony T']</td>\n",
       "      <td>0.792</td>\n",
       "      <td>147615</td>\n",
       "      <td>0.866</td>\n",
       "      <td>0</td>\n",
       "      <td>46LhBf6TvYjZU2SMvGZAbn</td>\n",
       "      <td>0.00006</td>\n",
       "      <td>6</td>\n",
       "      <td>0.178</td>\n",
       "      <td>-5.089</td>\n",
       "      <td>0</td>\n",
       "      <td>The One</td>\n",
       "      <td>0</td>\n",
       "      <td>2020-12-25</td>\n",
       "      <td>0.0356</td>\n",
       "      <td>125.972</td>\n",
       "      <td>0.186</td>\n",
       "      <td>2020</td>\n",
       "    </tr>\n",
       "    <tr>\n",
       "      <th>174385</th>\n",
       "      <td>0.79500</td>\n",
       "      <td>['Alessia Cara']</td>\n",
       "      <td>0.429</td>\n",
       "      <td>144720</td>\n",
       "      <td>0.211</td>\n",
       "      <td>0</td>\n",
       "      <td>7tue2Wemjd0FZzRtDrQFZd</td>\n",
       "      <td>0.00000</td>\n",
       "      <td>4</td>\n",
       "      <td>0.196</td>\n",
       "      <td>-11.665</td>\n",
       "      <td>1</td>\n",
       "      <td>A Little More</td>\n",
       "      <td>0</td>\n",
       "      <td>2021-01-22</td>\n",
       "      <td>0.0360</td>\n",
       "      <td>94.710</td>\n",
       "      <td>0.228</td>\n",
       "      <td>2021</td>\n",
       "    </tr>\n",
       "    <tr>\n",
       "      <th>174386</th>\n",
       "      <td>0.80600</td>\n",
       "      <td>['Roger Fly']</td>\n",
       "      <td>0.671</td>\n",
       "      <td>218147</td>\n",
       "      <td>0.589</td>\n",
       "      <td>0</td>\n",
       "      <td>48Qj61hOdYmUCFJbpQ29Ob</td>\n",
       "      <td>0.92000</td>\n",
       "      <td>4</td>\n",
       "      <td>0.113</td>\n",
       "      <td>-12.393</td>\n",
       "      <td>0</td>\n",
       "      <td>Together</td>\n",
       "      <td>0</td>\n",
       "      <td>2020-12-09</td>\n",
       "      <td>0.0282</td>\n",
       "      <td>108.058</td>\n",
       "      <td>0.714</td>\n",
       "      <td>2020</td>\n",
       "    </tr>\n",
       "    <tr>\n",
       "      <th>174387</th>\n",
       "      <td>0.92000</td>\n",
       "      <td>['Taylor Swift']</td>\n",
       "      <td>0.462</td>\n",
       "      <td>244000</td>\n",
       "      <td>0.240</td>\n",
       "      <td>1</td>\n",
       "      <td>1gcyHQpBQ1lfXGdhZmWrHP</td>\n",
       "      <td>0.00000</td>\n",
       "      <td>0</td>\n",
       "      <td>0.113</td>\n",
       "      <td>-12.077</td>\n",
       "      <td>1</td>\n",
       "      <td>champagne problems</td>\n",
       "      <td>69</td>\n",
       "      <td>2021-01-07</td>\n",
       "      <td>0.0377</td>\n",
       "      <td>171.319</td>\n",
       "      <td>0.320</td>\n",
       "      <td>2021</td>\n",
       "    </tr>\n",
       "    <tr>\n",
       "      <th>174388</th>\n",
       "      <td>0.23900</td>\n",
       "      <td>['Roger Fly']</td>\n",
       "      <td>0.677</td>\n",
       "      <td>197710</td>\n",
       "      <td>0.460</td>\n",
       "      <td>0</td>\n",
       "      <td>57tgYkWQTNHVFEt6xDKKZj</td>\n",
       "      <td>0.89100</td>\n",
       "      <td>7</td>\n",
       "      <td>0.215</td>\n",
       "      <td>-12.237</td>\n",
       "      <td>1</td>\n",
       "      <td>Improvisations</td>\n",
       "      <td>0</td>\n",
       "      <td>2020-12-09</td>\n",
       "      <td>0.0258</td>\n",
       "      <td>112.208</td>\n",
       "      <td>0.747</td>\n",
       "      <td>2020</td>\n",
       "    </tr>\n",
       "  </tbody>\n",
       "</table>\n",
       "</div>"
      ],
      "text/plain": [
       "        acousticness                             artists  danceability  \\\n",
       "174384       0.00917  ['DJ Combo', 'Sander-7', 'Tony T']         0.792   \n",
       "174385       0.79500                    ['Alessia Cara']         0.429   \n",
       "174386       0.80600                       ['Roger Fly']         0.671   \n",
       "174387       0.92000                    ['Taylor Swift']         0.462   \n",
       "174388       0.23900                       ['Roger Fly']         0.677   \n",
       "\n",
       "        duration_ms  energy  explicit                      id  \\\n",
       "174384       147615   0.866         0  46LhBf6TvYjZU2SMvGZAbn   \n",
       "174385       144720   0.211         0  7tue2Wemjd0FZzRtDrQFZd   \n",
       "174386       218147   0.589         0  48Qj61hOdYmUCFJbpQ29Ob   \n",
       "174387       244000   0.240         1  1gcyHQpBQ1lfXGdhZmWrHP   \n",
       "174388       197710   0.460         0  57tgYkWQTNHVFEt6xDKKZj   \n",
       "\n",
       "        instrumentalness  key  liveness  loudness  mode                name  \\\n",
       "174384           0.00006    6     0.178    -5.089     0             The One   \n",
       "174385           0.00000    4     0.196   -11.665     1       A Little More   \n",
       "174386           0.92000    4     0.113   -12.393     0            Together   \n",
       "174387           0.00000    0     0.113   -12.077     1  champagne problems   \n",
       "174388           0.89100    7     0.215   -12.237     1      Improvisations   \n",
       "\n",
       "        popularity release_date  speechiness    tempo  valence  year  \n",
       "174384           0   2020-12-25       0.0356  125.972    0.186  2020  \n",
       "174385           0   2021-01-22       0.0360   94.710    0.228  2021  \n",
       "174386           0   2020-12-09       0.0282  108.058    0.714  2020  \n",
       "174387          69   2021-01-07       0.0377  171.319    0.320  2021  \n",
       "174388           0   2020-12-09       0.0258  112.208    0.747  2020  "
      ]
     },
     "execution_count": 3,
     "metadata": {},
     "output_type": "execute_result"
    }
   ],
   "source": [
    "df.tail()"
   ]
  },
  {
   "cell_type": "code",
   "execution_count": 4,
   "metadata": {},
   "outputs": [
    {
     "data": {
      "text/html": [
       "<div>\n",
       "<style scoped>\n",
       "    .dataframe tbody tr th:only-of-type {\n",
       "        vertical-align: middle;\n",
       "    }\n",
       "\n",
       "    .dataframe tbody tr th {\n",
       "        vertical-align: top;\n",
       "    }\n",
       "\n",
       "    .dataframe thead th {\n",
       "        text-align: right;\n",
       "    }\n",
       "</style>\n",
       "<table border=\"1\" class=\"dataframe\">\n",
       "  <thead>\n",
       "    <tr style=\"text-align: right;\">\n",
       "      <th></th>\n",
       "      <th>acousticness</th>\n",
       "      <th>danceability</th>\n",
       "      <th>duration_ms</th>\n",
       "      <th>energy</th>\n",
       "      <th>explicit</th>\n",
       "      <th>instrumentalness</th>\n",
       "      <th>key</th>\n",
       "      <th>liveness</th>\n",
       "      <th>loudness</th>\n",
       "      <th>mode</th>\n",
       "      <th>popularity</th>\n",
       "      <th>speechiness</th>\n",
       "      <th>tempo</th>\n",
       "      <th>valence</th>\n",
       "      <th>year</th>\n",
       "    </tr>\n",
       "  </thead>\n",
       "  <tbody>\n",
       "    <tr>\n",
       "      <th>count</th>\n",
       "      <td>174389.000000</td>\n",
       "      <td>174389.000000</td>\n",
       "      <td>1.743890e+05</td>\n",
       "      <td>174389.000000</td>\n",
       "      <td>174389.000000</td>\n",
       "      <td>174389.000000</td>\n",
       "      <td>174389.000000</td>\n",
       "      <td>174389.000000</td>\n",
       "      <td>174389.000000</td>\n",
       "      <td>174389.000000</td>\n",
       "      <td>174389.000000</td>\n",
       "      <td>174389.000000</td>\n",
       "      <td>174389.000000</td>\n",
       "      <td>174389.000000</td>\n",
       "      <td>174389.000000</td>\n",
       "    </tr>\n",
       "    <tr>\n",
       "      <th>mean</th>\n",
       "      <td>0.499228</td>\n",
       "      <td>0.536758</td>\n",
       "      <td>2.328100e+05</td>\n",
       "      <td>0.482721</td>\n",
       "      <td>0.068135</td>\n",
       "      <td>0.197252</td>\n",
       "      <td>5.205305</td>\n",
       "      <td>0.211123</td>\n",
       "      <td>-11.750865</td>\n",
       "      <td>0.702384</td>\n",
       "      <td>25.693381</td>\n",
       "      <td>0.105729</td>\n",
       "      <td>117.006500</td>\n",
       "      <td>0.524533</td>\n",
       "      <td>1977.061764</td>\n",
       "    </tr>\n",
       "    <tr>\n",
       "      <th>std</th>\n",
       "      <td>0.379936</td>\n",
       "      <td>0.176025</td>\n",
       "      <td>1.483958e+05</td>\n",
       "      <td>0.272685</td>\n",
       "      <td>0.251978</td>\n",
       "      <td>0.334574</td>\n",
       "      <td>3.518292</td>\n",
       "      <td>0.180493</td>\n",
       "      <td>5.691591</td>\n",
       "      <td>0.457211</td>\n",
       "      <td>21.872740</td>\n",
       "      <td>0.182260</td>\n",
       "      <td>30.254178</td>\n",
       "      <td>0.264477</td>\n",
       "      <td>26.907950</td>\n",
       "    </tr>\n",
       "    <tr>\n",
       "      <th>min</th>\n",
       "      <td>0.000000</td>\n",
       "      <td>0.000000</td>\n",
       "      <td>4.937000e+03</td>\n",
       "      <td>0.000000</td>\n",
       "      <td>0.000000</td>\n",
       "      <td>0.000000</td>\n",
       "      <td>0.000000</td>\n",
       "      <td>0.000000</td>\n",
       "      <td>-60.000000</td>\n",
       "      <td>0.000000</td>\n",
       "      <td>0.000000</td>\n",
       "      <td>0.000000</td>\n",
       "      <td>0.000000</td>\n",
       "      <td>0.000000</td>\n",
       "      <td>1920.000000</td>\n",
       "    </tr>\n",
       "    <tr>\n",
       "      <th>25%</th>\n",
       "      <td>0.087700</td>\n",
       "      <td>0.414000</td>\n",
       "      <td>1.661330e+05</td>\n",
       "      <td>0.249000</td>\n",
       "      <td>0.000000</td>\n",
       "      <td>0.000000</td>\n",
       "      <td>2.000000</td>\n",
       "      <td>0.099200</td>\n",
       "      <td>-14.908000</td>\n",
       "      <td>0.000000</td>\n",
       "      <td>1.000000</td>\n",
       "      <td>0.035200</td>\n",
       "      <td>93.931000</td>\n",
       "      <td>0.311000</td>\n",
       "      <td>1955.000000</td>\n",
       "    </tr>\n",
       "    <tr>\n",
       "      <th>50%</th>\n",
       "      <td>0.517000</td>\n",
       "      <td>0.548000</td>\n",
       "      <td>2.057870e+05</td>\n",
       "      <td>0.465000</td>\n",
       "      <td>0.000000</td>\n",
       "      <td>0.000524</td>\n",
       "      <td>5.000000</td>\n",
       "      <td>0.138000</td>\n",
       "      <td>-10.836000</td>\n",
       "      <td>1.000000</td>\n",
       "      <td>25.000000</td>\n",
       "      <td>0.045500</td>\n",
       "      <td>115.816000</td>\n",
       "      <td>0.536000</td>\n",
       "      <td>1977.000000</td>\n",
       "    </tr>\n",
       "    <tr>\n",
       "      <th>75%</th>\n",
       "      <td>0.895000</td>\n",
       "      <td>0.669000</td>\n",
       "      <td>2.657200e+05</td>\n",
       "      <td>0.711000</td>\n",
       "      <td>0.000000</td>\n",
       "      <td>0.252000</td>\n",
       "      <td>8.000000</td>\n",
       "      <td>0.270000</td>\n",
       "      <td>-7.499000</td>\n",
       "      <td>1.000000</td>\n",
       "      <td>42.000000</td>\n",
       "      <td>0.076300</td>\n",
       "      <td>135.011000</td>\n",
       "      <td>0.743000</td>\n",
       "      <td>1999.000000</td>\n",
       "    </tr>\n",
       "    <tr>\n",
       "      <th>max</th>\n",
       "      <td>0.996000</td>\n",
       "      <td>0.988000</td>\n",
       "      <td>5.338302e+06</td>\n",
       "      <td>1.000000</td>\n",
       "      <td>1.000000</td>\n",
       "      <td>1.000000</td>\n",
       "      <td>11.000000</td>\n",
       "      <td>1.000000</td>\n",
       "      <td>3.855000</td>\n",
       "      <td>1.000000</td>\n",
       "      <td>100.000000</td>\n",
       "      <td>0.971000</td>\n",
       "      <td>243.507000</td>\n",
       "      <td>1.000000</td>\n",
       "      <td>2021.000000</td>\n",
       "    </tr>\n",
       "  </tbody>\n",
       "</table>\n",
       "</div>"
      ],
      "text/plain": [
       "        acousticness   danceability   duration_ms         energy  \\\n",
       "count  174389.000000  174389.000000  1.743890e+05  174389.000000   \n",
       "mean        0.499228       0.536758  2.328100e+05       0.482721   \n",
       "std         0.379936       0.176025  1.483958e+05       0.272685   \n",
       "min         0.000000       0.000000  4.937000e+03       0.000000   \n",
       "25%         0.087700       0.414000  1.661330e+05       0.249000   \n",
       "50%         0.517000       0.548000  2.057870e+05       0.465000   \n",
       "75%         0.895000       0.669000  2.657200e+05       0.711000   \n",
       "max         0.996000       0.988000  5.338302e+06       1.000000   \n",
       "\n",
       "            explicit  instrumentalness            key       liveness  \\\n",
       "count  174389.000000     174389.000000  174389.000000  174389.000000   \n",
       "mean        0.068135          0.197252       5.205305       0.211123   \n",
       "std         0.251978          0.334574       3.518292       0.180493   \n",
       "min         0.000000          0.000000       0.000000       0.000000   \n",
       "25%         0.000000          0.000000       2.000000       0.099200   \n",
       "50%         0.000000          0.000524       5.000000       0.138000   \n",
       "75%         0.000000          0.252000       8.000000       0.270000   \n",
       "max         1.000000          1.000000      11.000000       1.000000   \n",
       "\n",
       "            loudness           mode     popularity    speechiness  \\\n",
       "count  174389.000000  174389.000000  174389.000000  174389.000000   \n",
       "mean      -11.750865       0.702384      25.693381       0.105729   \n",
       "std         5.691591       0.457211      21.872740       0.182260   \n",
       "min       -60.000000       0.000000       0.000000       0.000000   \n",
       "25%       -14.908000       0.000000       1.000000       0.035200   \n",
       "50%       -10.836000       1.000000      25.000000       0.045500   \n",
       "75%        -7.499000       1.000000      42.000000       0.076300   \n",
       "max         3.855000       1.000000     100.000000       0.971000   \n",
       "\n",
       "               tempo        valence           year  \n",
       "count  174389.000000  174389.000000  174389.000000  \n",
       "mean      117.006500       0.524533    1977.061764  \n",
       "std        30.254178       0.264477      26.907950  \n",
       "min         0.000000       0.000000    1920.000000  \n",
       "25%        93.931000       0.311000    1955.000000  \n",
       "50%       115.816000       0.536000    1977.000000  \n",
       "75%       135.011000       0.743000    1999.000000  \n",
       "max       243.507000       1.000000    2021.000000  "
      ]
     },
     "execution_count": 4,
     "metadata": {},
     "output_type": "execute_result"
    }
   ],
   "source": [
    "df.describe()"
   ]
  },
  {
   "cell_type": "code",
   "execution_count": 5,
   "metadata": {},
   "outputs": [
    {
     "data": {
      "text/plain": [
       "Text(0, 0.5, 'Frequency')"
      ]
     },
     "execution_count": 5,
     "metadata": {},
     "output_type": "execute_result"
    },
    {
     "data": {
      "image/png": "[encoded data removed]",
      "text/plain": [
       "<Figure size 432x288 with 1 Axes>"
      ]
     },
     "metadata": {},
     "output_type": "display_data"
    }
   ],
   "source": [
    "fig, ax = plt.subplots()\n",
    "ax.hist(df[\"popularity\"])\n",
    "ax.set_xlabel(\"Popularity\")\n",
    "ax.set_ylabel(\"Frequency\")"
   ]
  },
  {
   "cell_type": "code",
   "execution_count": 6,
   "metadata": {},
   "outputs": [],
   "source": [
    "df[\"popularity_discrete\"] = pd.cut(x=df[\"popularity\"], bins=[-1,20,50,100], labels=[0,1,2])"
   ]
  },
  {
   "cell_type": "code",
   "execution_count": 7,
   "metadata": {},
   "outputs": [
    {
     "data": {
      "text/plain": [
       "0         0\n",
       "1         0\n",
       "2         0\n",
       "3         0\n",
       "4         0\n",
       "         ..\n",
       "174384    0\n",
       "174385    0\n",
       "174386    0\n",
       "174387    2\n",
       "174388    0\n",
       "Name: popularity_discrete, Length: 174389, dtype: category\n",
       "Categories (3, int64): [0 < 1 < 2]"
      ]
     },
     "execution_count": 7,
     "metadata": {},
     "output_type": "execute_result"
    }
   ],
   "source": [
    "df[\"popularity_discrete\"]"
   ]
  },
  {
   "cell_type": "code",
   "execution_count": 21,
   "metadata": {},
   "outputs": [
    {
     "data": {
      "text/html": [
       "<div>\n",
       "<style scoped>\n",
       "    .dataframe tbody tr th:only-of-type {\n",
       "        vertical-align: middle;\n",
       "    }\n",
       "\n",
       "    .dataframe tbody tr th {\n",
       "        vertical-align: top;\n",
       "    }\n",
       "\n",
       "    .dataframe thead th {\n",
       "        text-align: right;\n",
       "    }\n",
       "</style>\n",
       "<table border=\"1\" class=\"dataframe\">\n",
       "  <thead>\n",
       "    <tr style=\"text-align: right;\">\n",
       "      <th></th>\n",
       "      <th>acousticness</th>\n",
       "      <th>instrumentalness</th>\n",
       "      <th>speechiness</th>\n",
       "    </tr>\n",
       "  </thead>\n",
       "  <tbody>\n",
       "    <tr>\n",
       "      <th>0</th>\n",
       "      <td>0.991000</td>\n",
       "      <td>0.000522</td>\n",
       "      <td>0.0936</td>\n",
       "    </tr>\n",
       "    <tr>\n",
       "      <th>1</th>\n",
       "      <td>0.643000</td>\n",
       "      <td>0.026400</td>\n",
       "      <td>0.0534</td>\n",
       "    </tr>\n",
       "    <tr>\n",
       "      <th>2</th>\n",
       "      <td>0.993000</td>\n",
       "      <td>0.000018</td>\n",
       "      <td>0.1740</td>\n",
       "    </tr>\n",
       "    <tr>\n",
       "      <th>3</th>\n",
       "      <td>0.000173</td>\n",
       "      <td>0.801000</td>\n",
       "      <td>0.0425</td>\n",
       "    </tr>\n",
       "    <tr>\n",
       "      <th>4</th>\n",
       "      <td>0.295000</td>\n",
       "      <td>0.000246</td>\n",
       "      <td>0.0768</td>\n",
       "    </tr>\n",
       "  </tbody>\n",
       "</table>\n",
       "</div>"
      ],
      "text/plain": [
       "   acousticness  instrumentalness  speechiness\n",
       "0      0.991000          0.000522       0.0936\n",
       "1      0.643000          0.026400       0.0534\n",
       "2      0.993000          0.000018       0.1740\n",
       "3      0.000173          0.801000       0.0425\n",
       "4      0.295000          0.000246       0.0768"
      ]
     },
     "execution_count": 21,
     "metadata": {},
     "output_type": "execute_result"
    }
   ],
   "source": [
    "#columns = [\"acousticness\", \"danceability\", \"duration_ms\", \"energy\", \"instrumentalness\", \"key\", \"liveness\", \"loudness\", \"speechiness\", \"tempo\", \"valence\"]\n",
    "columns = [\"acousticness\", \"instrumentalness\", \"speechiness\"]\n",
    "X = pd.DataFrame(df, columns=columns)\n",
    "y = df[\"popularity_discrete\"]\n",
    "\n",
    "X.head()"
   ]
  },
  {
   "cell_type": "code",
   "execution_count": 22,
   "metadata": {},
   "outputs": [],
   "source": [
    "X_train, X_test, y_train, y_test = train_test_split(X, y, test_size=0.20, random_state=42)"
   ]
  },
  {
   "cell_type": "code",
   "execution_count": 23,
   "metadata": {},
   "outputs": [],
   "source": [
    "clf = LogisticRegression(random_state=0, multi_class=\"multinomial\", max_iter=180).fit(X_train, y_train)\n",
    "y_pred = clf.predict(X_test)"
   ]
  },
  {
   "cell_type": "code",
   "execution_count": 24,
   "metadata": {},
   "outputs": [
    {
     "data": {
      "text/plain": [
       "0.6070302196226848"
      ]
     },
     "execution_count": 24,
     "metadata": {},
     "output_type": "execute_result"
    }
   ],
   "source": [
    "accuracy_score(y_test, y_pred)"
   ]
  },
  {
   "cell_type": "code",
   "execution_count": 25,
   "metadata": {},
   "outputs": [
    {
     "data": {
      "text/plain": [
       "0.6056368315043258"
      ]
     },
     "execution_count": 25,
     "metadata": {},
     "output_type": "execute_result"
    }
   ],
   "source": [
    "y_pred2 = clf.predict(X_train)\n",
    "accuracy_score(y_pred2, y_train)"
   ]
  },
  {
   "cell_type": "code",
   "execution_count": 26,
   "metadata": {},
   "outputs": [],
   "source": [
    "columns = [\"acousticness\", \"instrumentalness\", \"speechiness\", \"explicit\"]\n",
    "X1 = pd.DataFrame(df, columns=columns)\n",
    "y1 = df['popularity']\n",
    "X_train1, X_test1, y_train1, y_test1 = train_test_split(X1, y1, test_size=0.20)"
   ]
  },
  {
   "cell_type": "code",
   "execution_count": 27,
   "metadata": {},
   "outputs": [],
   "source": [
    "clf1 = LinearRegression().fit(X_train1, y_train1)\n",
    "y_pred1 = clf1.predict(X_test1)"
   ]
  },
  {
   "cell_type": "code",
   "execution_count": 28,
   "metadata": {},
   "outputs": [
    {
     "name": "stdout",
     "output_type": "stream",
     "text": [
      "Coefficient of determination: 0.28\n",
      "Mean squared error: 345.13\n"
     ]
    }
   ],
   "source": [
    "print('Coefficient of determination: %.2f'\n",
    "      % r2_score(y_test1, y_pred1))\n",
    "print('Mean squared error: %.2f'\n",
    "      % mean_squared_error(y_test1, y_pred1))"
   ]
  },
  {
   "cell_type": "code",
   "execution_count": 36,
   "metadata": {},
   "outputs": [
    {
     "name": "stdout",
     "output_type": "stream",
     "text": [
      "Coefficient of determination: 0.37\n",
      "Mean squared error: 299.53\n"
     ]
    }
   ],
   "source": [
    "poly = PolynomialFeatures(degree=4)\n",
    "X_ = poly.fit_transform(X1)\n",
    "X_train2, X_test2, y_train2, y_test2 = train_test_split(X_, y1, test_size=0.20)\n",
    "clf2 = LinearRegression().fit(X_train2, y_train2)\n",
    "y_pred2 = clf2.predict(X_test2)\n",
    "print('Coefficient of determination: %.2f'\n",
    "      % r2_score(y_test2, y_pred2))\n",
    "print('Mean squared error: %.2f'\n",
    "      % mean_squared_error(y_test2, y_pred2))"
   ]
  },
  {
   "cell_type": "code",
   "execution_count": 40,
   "metadata": {},
   "outputs": [
    {
     "name": "stdout",
     "output_type": "stream",
     "text": [
      "[[9.91000e-01 5.98000e-01 2.24000e-01 ... 9.36000e-02 1.49976e+02\n",
      "  6.34000e-01]\n",
      " [6.43000e-01 8.52000e-01 5.17000e-01 ... 5.34000e-02 8.68890e+01\n",
      "  9.50000e-01]\n",
      " [9.93000e-01 6.47000e-01 1.86000e-01 ... 1.74000e-01 9.76000e+01\n",
      "  6.89000e-01]\n",
      " ...\n",
      " [8.06000e-01 6.71000e-01 5.89000e-01 ... 2.82000e-02 1.08058e+02\n",
      "  7.14000e-01]\n",
      " [9.20000e-01 4.62000e-01 2.40000e-01 ... 3.77000e-02 1.71319e+02\n",
      "  3.20000e-01]\n",
      " [2.39000e-01 6.77000e-01 4.60000e-01 ... 2.58000e-02 1.12208e+02\n",
      "  7.47000e-01]]\n"
     ]
    }
   ],
   "source": [
    "columns = [\"acousticness\", \"danceability\", \"duration_ms\", \"energy\", \"instrumentalness\", \"key\", \"liveness\", \n",
    "           \"loudness\", \"speechiness\", \"tempo\", \"valence\"]\n",
    "df[\"popularity_discrete\"] = pd.cut(x=df[\"popularity\"], bins=[-1,20,50,100], labels=[0,1,2])\n",
    "X2 = pd.DataFrame(df, columns=columns)\n",
    "y = df[\"popularity_discrete\"]\n",
    "X_new = SelectKBest(k=9).fit_transform(X2, y)\n",
    "X_new.shape\n",
    "print(X_new)"
   ]
  },
  {
   "cell_type": "code",
   "execution_count": 42,
   "metadata": {},
   "outputs": [
    {
     "data": {
      "text/plain": [
       "0.6301680142209989"
      ]
     },
     "execution_count": 42,
     "metadata": {},
     "output_type": "execute_result"
    }
   ],
   "source": [
    "X_train, X_test, y_train, y_test = train_test_split(X_new, y, test_size=0.20, random_state=42)\n",
    "clf = LogisticRegression(random_state=0, solver = 'sag', multi_class=\"multinomial\", max_iter=800).fit(X_train, y_train)\n",
    "y_pred3 = clf.predict(X_test)\n",
    "accuracy_score(y_test, y_pred3)"
   ]
  },
  {
   "cell_type": "code",
   "execution_count": null,
   "metadata": {},
   "outputs": [],
   "source": []
  }
 ],
 "metadata": {
  "kernelspec": {
   "display_name": "Python 3",
   "language": "python",
   "name": "python3"
  },
  "language_info": {
   "codemirror_mode": {
    "name": "ipython",
    "version": 3
   },
   "file_extension": ".py",
   "mimetype": "text/x-python",
   "name": "python",
   "nbconvert_exporter": "python",
   "pygments_lexer": "ipython3",
   "version": "3.8.5"
  }
 },
 "nbformat": 4,
 "nbformat_minor": 4
}
