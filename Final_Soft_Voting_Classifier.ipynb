{
 "cells": [
  {
   "cell_type": "code",
   "execution_count": 11,
   "id": "streaming-bench",
   "metadata": {},
   "outputs": [],
   "source": [
    "## Importing necessary libraries\n",
    "\n",
    "import pandas as pd\n",
    "import numpy as np\n",
    "from matplotlib import pyplot as plt\n",
    "import seaborn as sns\n",
    "sns.set_theme()\n",
    "from sklearn.linear_model import LogisticRegression, LinearRegression\n",
    "from sklearn.model_selection import train_test_split\n",
    "from sklearn.feature_selection import SelectKBest, mutual_info_classif, f_classif\n",
    "from sklearn.metrics import classification_report, confusion_matrix\n",
    "from sklearn.model_selection import cross_val_score\n",
    "from sklearn.ensemble import RandomForestClassifier, VotingClassifier\n",
    "from sklearn.tree import DecisionTreeClassifier\n",
    "from sklearn.preprocessing import StandardScaler\n",
    "from sklearn.svm import SVC\n",
    "from sklearn.pipeline import Pipeline"
   ]
  },
  {
   "cell_type": "markdown",
   "id": "adult-worcester",
   "metadata": {},
   "source": [
    "### Loading the modified dataset"
   ]
  },
  {
   "cell_type": "code",
   "execution_count": 12,
   "id": "uniform-insulation",
   "metadata": {},
   "outputs": [],
   "source": [
    "df = pd.read_csv('data_merged.csv')\n",
    "del df['mode'] ## Deleted unnecessary attributes\n",
    "del df['key_6_yr']\n",
    "\n",
    "## Drppoing the \"popularity\" attribute from the data frame and declairing it as the dependant variable or the  output\n",
    "X = df[df.columns.difference(['popularity'])]\n",
    "y = pd.cut(x=df[\"popularity\"], bins=[-1,42,100], labels=[0,1])"
   ]
  },
  {
   "cell_type": "markdown",
   "id": "promising-victor",
   "metadata": {},
   "source": [
    "### Splitting the data into training and testing sets"
   ]
  },
  {
   "cell_type": "code",
   "execution_count": 13,
   "id": "premier-commercial",
   "metadata": {},
   "outputs": [],
   "source": [
    "X_train, X_test, y_train, y_test = train_test_split(X, y, test_size=0.20, random_state=42)"
   ]
  },
  {
   "cell_type": "markdown",
   "id": "recovered-throat",
   "metadata": {},
   "source": [
    "### SVM with pipeline"
   ]
  },
  {
   "cell_type": "code",
   "execution_count": 21,
   "id": "designed-wales",
   "metadata": {},
   "outputs": [],
   "source": [
    "scaler = StandardScaler()\n",
    "\n",
    "## Hyperparameters are tuned according to gridsearch results\n",
    "svm = SVC(kernel='rbf', random_state=42, probability = True)\n",
    "\n",
    "svm_pipe = Pipeline([('scaler', scaler), ('svm', svm)])"
   ]
  },
  {
   "cell_type": "markdown",
   "id": "bridal-compensation",
   "metadata": {},
   "source": [
    "### Logistic Regressor with pipeline"
   ]
  },
  {
   "cell_type": "code",
   "execution_count": 22,
   "id": "sophisticated-consolidation",
   "metadata": {},
   "outputs": [],
   "source": [
    "## Hyperparameters are tuned according to gridsearch results\n",
    "select = SelectKBest(f_classif, k=27)\n",
    "log_clf = LogisticRegression(random_state=42)\n",
    "\n",
    "log_pipe = Pipeline([('select', select), ('log_clf', log_clf)])"
   ]
  },
  {
   "cell_type": "markdown",
   "id": "developed-daughter",
   "metadata": {},
   "source": [
    "### Decision Tree Classifier with pipeline"
   ]
  },
  {
   "cell_type": "code",
   "execution_count": 23,
   "id": "taken-scoop",
   "metadata": {},
   "outputs": [],
   "source": [
    "## Hyperparameters are tuned according to gridsearch results\n",
    "tree_clf = DecisionTreeClassifier(max_depth=8, max_features='sqrt', criterion='gini', min_samples_leaf=3,\n",
    "                               min_samples_split=14)\n",
    "tree_pipe = Pipeline([('tree_clf',tree_clf)])"
   ]
  },
  {
   "cell_type": "markdown",
   "id": "eleven-responsibility",
   "metadata": {},
   "source": [
    "### Voting Classifier"
   ]
  },
  {
   "cell_type": "code",
   "execution_count": 28,
   "id": "positive-invite",
   "metadata": {},
   "outputs": [
    {
     "data": {
      "text/plain": [
       "VotingClassifier(estimators=[('svm_pipe',\n",
       "                              Pipeline(steps=[('scaler', StandardScaler()),\n",
       "                                              ('svm',\n",
       "                                               SVC(probability=True,\n",
       "                                                   random_state=42))])),\n",
       "                             ('tree_pipe',\n",
       "                              Pipeline(steps=[('tree_clf',\n",
       "                                               DecisionTreeClassifier(max_depth=20,\n",
       "                                                                      max_features='sqrt',\n",
       "                                                                      min_samples_leaf=4))])),\n",
       "                             ('log_pipe',\n",
       "                              Pipeline(steps=[('select', SelectKBest(k=27)),\n",
       "                                              ('log_clf',\n",
       "                                               LogisticRegression(random_state=42))]))],\n",
       "                 n_jobs=-1, voting='soft')"
      ]
     },
     "execution_count": 28,
     "metadata": {},
     "output_type": "execute_result"
    }
   ],
   "source": [
    "## The pipelines of the defined classifiers will be voting in the voting classifier\n",
    "vote_clf = VotingClassifier(estimators=[('svm_pipe', svm_pipe), ('tree_pipe', tree_pipe), ('log_pipe', log_pipe)], \n",
    "                         voting='soft', n_jobs=-1)\n",
    "\n",
    "## n_jobs=-1 uses all the cores \n",
    "## The soft voting gives more weightage to the more confident classifiers \n",
    "vote_clf.fit(X_train, y_train)"
   ]
  },
  {
   "cell_type": "code",
   "execution_count": 31,
   "id": "short-vision",
   "metadata": {},
   "outputs": [],
   "source": [
    "vote_pred = vote_clf.predict(X_test)"
   ]
  },
  {
   "cell_type": "markdown",
   "id": "impressed-modern",
   "metadata": {},
   "source": [
    "### Performance"
   ]
  },
  {
   "cell_type": "code",
   "execution_count": 32,
   "id": "informational-substitute",
   "metadata": {},
   "outputs": [
    {
     "name": "stdout",
     "output_type": "stream",
     "text": [
      "              precision    recall  f1-score   support\n",
      "\n",
      "           0       0.90      0.96      0.93     25942\n",
      "           1       0.84      0.67      0.75      8504\n",
      "\n",
      "    accuracy                           0.89     34446\n",
      "   macro avg       0.87      0.81      0.84     34446\n",
      "weighted avg       0.88      0.89      0.88     34446\n",
      "\n"
     ]
    }
   ],
   "source": [
    "print(classification_report(y_test, vote_pred))"
   ]
  },
  {
   "cell_type": "code",
   "execution_count": null,
   "id": "alternate-burning",
   "metadata": {},
   "outputs": [],
   "source": []
  }
 ],
 "metadata": {
  "kernelspec": {
   "display_name": "Python 3",
   "language": "python",
   "name": "python3"
  },
  "language_info": {
   "codemirror_mode": {
    "name": "ipython",
    "version": 3
   },
   "file_extension": ".py",
   "mimetype": "text/x-python",
   "name": "python",
   "nbconvert_exporter": "python",
   "pygments_lexer": "ipython3",
   "version": "3.8.5"
  }
 },
 "nbformat": 4,
 "nbformat_minor": 5
}
